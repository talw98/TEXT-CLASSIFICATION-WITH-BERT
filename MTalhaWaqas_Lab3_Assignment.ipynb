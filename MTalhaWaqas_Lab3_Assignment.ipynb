{
  "nbformat": 4,
  "nbformat_minor": 0,
  "metadata": {
    "colab": {
      "provenance": [],
      "gpuType": "T4",
      "include_colab_link": true
    },
    "kernelspec": {
      "name": "python3",
      "display_name": "Python 3"
    },
    "language_info": {
      "name": "python"
    },
    "widgets": {
      "application/vnd.jupyter.widget-state+json": {
        "d9c9657067704758a92ec396dfc2d6ce": {
          "model_module": "@jupyter-widgets/controls",
          "model_name": "HBoxModel",
          "model_module_version": "1.5.0",
          "state": {
            "_dom_classes": [],
            "_model_module": "@jupyter-widgets/controls",
            "_model_module_version": "1.5.0",
            "_model_name": "HBoxModel",
            "_view_count": null,
            "_view_module": "@jupyter-widgets/controls",
            "_view_module_version": "1.5.0",
            "_view_name": "HBoxView",
            "box_style": "",
            "children": [
              "IPY_MODEL_8e90c73522424c529b3df27729c79ed8",
              "IPY_MODEL_075ed345ab234ade890e897eb8f29c5d",
              "IPY_MODEL_66bb9a492b804710b00f44fbc8dd7e74"
            ],
            "layout": "IPY_MODEL_80a4e733a17d4faaa7e18a1ee391054b"
          }
        },
        "8e90c73522424c529b3df27729c79ed8": {
          "model_module": "@jupyter-widgets/controls",
          "model_name": "HTMLModel",
          "model_module_version": "1.5.0",
          "state": {
            "_dom_classes": [],
            "_model_module": "@jupyter-widgets/controls",
            "_model_module_version": "1.5.0",
            "_model_name": "HTMLModel",
            "_view_count": null,
            "_view_module": "@jupyter-widgets/controls",
            "_view_module_version": "1.5.0",
            "_view_name": "HTMLView",
            "description": "",
            "description_tooltip": null,
            "layout": "IPY_MODEL_9edb2451fde84820898a91008526d7d1",
            "placeholder": "​",
            "style": "IPY_MODEL_a8cba227d04f4d6a8a96adc0abed33e8",
            "value": "tokenizer_config.json: 100%"
          }
        },
        "075ed345ab234ade890e897eb8f29c5d": {
          "model_module": "@jupyter-widgets/controls",
          "model_name": "FloatProgressModel",
          "model_module_version": "1.5.0",
          "state": {
            "_dom_classes": [],
            "_model_module": "@jupyter-widgets/controls",
            "_model_module_version": "1.5.0",
            "_model_name": "FloatProgressModel",
            "_view_count": null,
            "_view_module": "@jupyter-widgets/controls",
            "_view_module_version": "1.5.0",
            "_view_name": "ProgressView",
            "bar_style": "success",
            "description": "",
            "description_tooltip": null,
            "layout": "IPY_MODEL_99e23717b4ac428e879b2f3949786cf4",
            "max": 28,
            "min": 0,
            "orientation": "horizontal",
            "style": "IPY_MODEL_399b5d6f8af14ce391c6a0bdd4e7febc",
            "value": 28
          }
        },
        "66bb9a492b804710b00f44fbc8dd7e74": {
          "model_module": "@jupyter-widgets/controls",
          "model_name": "HTMLModel",
          "model_module_version": "1.5.0",
          "state": {
            "_dom_classes": [],
            "_model_module": "@jupyter-widgets/controls",
            "_model_module_version": "1.5.0",
            "_model_name": "HTMLModel",
            "_view_count": null,
            "_view_module": "@jupyter-widgets/controls",
            "_view_module_version": "1.5.0",
            "_view_name": "HTMLView",
            "description": "",
            "description_tooltip": null,
            "layout": "IPY_MODEL_788d942d531745e597317c609deda29b",
            "placeholder": "​",
            "style": "IPY_MODEL_ff397b077f3446c2b86df74095e2e7ce",
            "value": " 28.0/28.0 [00:00&lt;00:00, 971B/s]"
          }
        },
        "80a4e733a17d4faaa7e18a1ee391054b": {
          "model_module": "@jupyter-widgets/base",
          "model_name": "LayoutModel",
          "model_module_version": "1.2.0",
          "state": {
            "_model_module": "@jupyter-widgets/base",
            "_model_module_version": "1.2.0",
            "_model_name": "LayoutModel",
            "_view_count": null,
            "_view_module": "@jupyter-widgets/base",
            "_view_module_version": "1.2.0",
            "_view_name": "LayoutView",
            "align_content": null,
            "align_items": null,
            "align_self": null,
            "border": null,
            "bottom": null,
            "display": null,
            "flex": null,
            "flex_flow": null,
            "grid_area": null,
            "grid_auto_columns": null,
            "grid_auto_flow": null,
            "grid_auto_rows": null,
            "grid_column": null,
            "grid_gap": null,
            "grid_row": null,
            "grid_template_areas": null,
            "grid_template_columns": null,
            "grid_template_rows": null,
            "height": null,
            "justify_content": null,
            "justify_items": null,
            "left": null,
            "margin": null,
            "max_height": null,
            "max_width": null,
            "min_height": null,
            "min_width": null,
            "object_fit": null,
            "object_position": null,
            "order": null,
            "overflow": null,
            "overflow_x": null,
            "overflow_y": null,
            "padding": null,
            "right": null,
            "top": null,
            "visibility": null,
            "width": null
          }
        },
        "9edb2451fde84820898a91008526d7d1": {
          "model_module": "@jupyter-widgets/base",
          "model_name": "LayoutModel",
          "model_module_version": "1.2.0",
          "state": {
            "_model_module": "@jupyter-widgets/base",
            "_model_module_version": "1.2.0",
            "_model_name": "LayoutModel",
            "_view_count": null,
            "_view_module": "@jupyter-widgets/base",
            "_view_module_version": "1.2.0",
            "_view_name": "LayoutView",
            "align_content": null,
            "align_items": null,
            "align_self": null,
            "border": null,
            "bottom": null,
            "display": null,
            "flex": null,
            "flex_flow": null,
            "grid_area": null,
            "grid_auto_columns": null,
            "grid_auto_flow": null,
            "grid_auto_rows": null,
            "grid_column": null,
            "grid_gap": null,
            "grid_row": null,
            "grid_template_areas": null,
            "grid_template_columns": null,
            "grid_template_rows": null,
            "height": null,
            "justify_content": null,
            "justify_items": null,
            "left": null,
            "margin": null,
            "max_height": null,
            "max_width": null,
            "min_height": null,
            "min_width": null,
            "object_fit": null,
            "object_position": null,
            "order": null,
            "overflow": null,
            "overflow_x": null,
            "overflow_y": null,
            "padding": null,
            "right": null,
            "top": null,
            "visibility": null,
            "width": null
          }
        },
        "a8cba227d04f4d6a8a96adc0abed33e8": {
          "model_module": "@jupyter-widgets/controls",
          "model_name": "DescriptionStyleModel",
          "model_module_version": "1.5.0",
          "state": {
            "_model_module": "@jupyter-widgets/controls",
            "_model_module_version": "1.5.0",
            "_model_name": "DescriptionStyleModel",
            "_view_count": null,
            "_view_module": "@jupyter-widgets/base",
            "_view_module_version": "1.2.0",
            "_view_name": "StyleView",
            "description_width": ""
          }
        },
        "99e23717b4ac428e879b2f3949786cf4": {
          "model_module": "@jupyter-widgets/base",
          "model_name": "LayoutModel",
          "model_module_version": "1.2.0",
          "state": {
            "_model_module": "@jupyter-widgets/base",
            "_model_module_version": "1.2.0",
            "_model_name": "LayoutModel",
            "_view_count": null,
            "_view_module": "@jupyter-widgets/base",
            "_view_module_version": "1.2.0",
            "_view_name": "LayoutView",
            "align_content": null,
            "align_items": null,
            "align_self": null,
            "border": null,
            "bottom": null,
            "display": null,
            "flex": null,
            "flex_flow": null,
            "grid_area": null,
            "grid_auto_columns": null,
            "grid_auto_flow": null,
            "grid_auto_rows": null,
            "grid_column": null,
            "grid_gap": null,
            "grid_row": null,
            "grid_template_areas": null,
            "grid_template_columns": null,
            "grid_template_rows": null,
            "height": null,
            "justify_content": null,
            "justify_items": null,
            "left": null,
            "margin": null,
            "max_height": null,
            "max_width": null,
            "min_height": null,
            "min_width": null,
            "object_fit": null,
            "object_position": null,
            "order": null,
            "overflow": null,
            "overflow_x": null,
            "overflow_y": null,
            "padding": null,
            "right": null,
            "top": null,
            "visibility": null,
            "width": null
          }
        },
        "399b5d6f8af14ce391c6a0bdd4e7febc": {
          "model_module": "@jupyter-widgets/controls",
          "model_name": "ProgressStyleModel",
          "model_module_version": "1.5.0",
          "state": {
            "_model_module": "@jupyter-widgets/controls",
            "_model_module_version": "1.5.0",
            "_model_name": "ProgressStyleModel",
            "_view_count": null,
            "_view_module": "@jupyter-widgets/base",
            "_view_module_version": "1.2.0",
            "_view_name": "StyleView",
            "bar_color": null,
            "description_width": ""
          }
        },
        "788d942d531745e597317c609deda29b": {
          "model_module": "@jupyter-widgets/base",
          "model_name": "LayoutModel",
          "model_module_version": "1.2.0",
          "state": {
            "_model_module": "@jupyter-widgets/base",
            "_model_module_version": "1.2.0",
            "_model_name": "LayoutModel",
            "_view_count": null,
            "_view_module": "@jupyter-widgets/base",
            "_view_module_version": "1.2.0",
            "_view_name": "LayoutView",
            "align_content": null,
            "align_items": null,
            "align_self": null,
            "border": null,
            "bottom": null,
            "display": null,
            "flex": null,
            "flex_flow": null,
            "grid_area": null,
            "grid_auto_columns": null,
            "grid_auto_flow": null,
            "grid_auto_rows": null,
            "grid_column": null,
            "grid_gap": null,
            "grid_row": null,
            "grid_template_areas": null,
            "grid_template_columns": null,
            "grid_template_rows": null,
            "height": null,
            "justify_content": null,
            "justify_items": null,
            "left": null,
            "margin": null,
            "max_height": null,
            "max_width": null,
            "min_height": null,
            "min_width": null,
            "object_fit": null,
            "object_position": null,
            "order": null,
            "overflow": null,
            "overflow_x": null,
            "overflow_y": null,
            "padding": null,
            "right": null,
            "top": null,
            "visibility": null,
            "width": null
          }
        },
        "ff397b077f3446c2b86df74095e2e7ce": {
          "model_module": "@jupyter-widgets/controls",
          "model_name": "DescriptionStyleModel",
          "model_module_version": "1.5.0",
          "state": {
            "_model_module": "@jupyter-widgets/controls",
            "_model_module_version": "1.5.0",
            "_model_name": "DescriptionStyleModel",
            "_view_count": null,
            "_view_module": "@jupyter-widgets/base",
            "_view_module_version": "1.2.0",
            "_view_name": "StyleView",
            "description_width": ""
          }
        },
        "63aa81a330654a19be7002ac288a07d2": {
          "model_module": "@jupyter-widgets/controls",
          "model_name": "HBoxModel",
          "model_module_version": "1.5.0",
          "state": {
            "_dom_classes": [],
            "_model_module": "@jupyter-widgets/controls",
            "_model_module_version": "1.5.0",
            "_model_name": "HBoxModel",
            "_view_count": null,
            "_view_module": "@jupyter-widgets/controls",
            "_view_module_version": "1.5.0",
            "_view_name": "HBoxView",
            "box_style": "",
            "children": [
              "IPY_MODEL_8aca039153d04ac299428d9aea53f92c",
              "IPY_MODEL_54391cb299bf4cf18a98319039ca105a",
              "IPY_MODEL_b9b3d6e2c1c14488a1800e12a610f39e"
            ],
            "layout": "IPY_MODEL_c66355121dfe4c6ba8ab94ccb2c153e9"
          }
        },
        "8aca039153d04ac299428d9aea53f92c": {
          "model_module": "@jupyter-widgets/controls",
          "model_name": "HTMLModel",
          "model_module_version": "1.5.0",
          "state": {
            "_dom_classes": [],
            "_model_module": "@jupyter-widgets/controls",
            "_model_module_version": "1.5.0",
            "_model_name": "HTMLModel",
            "_view_count": null,
            "_view_module": "@jupyter-widgets/controls",
            "_view_module_version": "1.5.0",
            "_view_name": "HTMLView",
            "description": "",
            "description_tooltip": null,
            "layout": "IPY_MODEL_29ae36b9bf824cb4839f6d91c76c81f1",
            "placeholder": "​",
            "style": "IPY_MODEL_e2feb70e91064b7b8e4667ac31b85a71",
            "value": "config.json: 100%"
          }
        },
        "54391cb299bf4cf18a98319039ca105a": {
          "model_module": "@jupyter-widgets/controls",
          "model_name": "FloatProgressModel",
          "model_module_version": "1.5.0",
          "state": {
            "_dom_classes": [],
            "_model_module": "@jupyter-widgets/controls",
            "_model_module_version": "1.5.0",
            "_model_name": "FloatProgressModel",
            "_view_count": null,
            "_view_module": "@jupyter-widgets/controls",
            "_view_module_version": "1.5.0",
            "_view_name": "ProgressView",
            "bar_style": "success",
            "description": "",
            "description_tooltip": null,
            "layout": "IPY_MODEL_bf787ae187b043ce8728aa989a39e144",
            "max": 385,
            "min": 0,
            "orientation": "horizontal",
            "style": "IPY_MODEL_3584f20072464901b6205ff5f3eb69be",
            "value": 385
          }
        },
        "b9b3d6e2c1c14488a1800e12a610f39e": {
          "model_module": "@jupyter-widgets/controls",
          "model_name": "HTMLModel",
          "model_module_version": "1.5.0",
          "state": {
            "_dom_classes": [],
            "_model_module": "@jupyter-widgets/controls",
            "_model_module_version": "1.5.0",
            "_model_name": "HTMLModel",
            "_view_count": null,
            "_view_module": "@jupyter-widgets/controls",
            "_view_module_version": "1.5.0",
            "_view_name": "HTMLView",
            "description": "",
            "description_tooltip": null,
            "layout": "IPY_MODEL_af966827ecd24af397719b5d0362dc69",
            "placeholder": "​",
            "style": "IPY_MODEL_81900c4273f44aba8833f86ad9a6b8d3",
            "value": " 385/385 [00:00&lt;00:00, 30.9kB/s]"
          }
        },
        "c66355121dfe4c6ba8ab94ccb2c153e9": {
          "model_module": "@jupyter-widgets/base",
          "model_name": "LayoutModel",
          "model_module_version": "1.2.0",
          "state": {
            "_model_module": "@jupyter-widgets/base",
            "_model_module_version": "1.2.0",
            "_model_name": "LayoutModel",
            "_view_count": null,
            "_view_module": "@jupyter-widgets/base",
            "_view_module_version": "1.2.0",
            "_view_name": "LayoutView",
            "align_content": null,
            "align_items": null,
            "align_self": null,
            "border": null,
            "bottom": null,
            "display": null,
            "flex": null,
            "flex_flow": null,
            "grid_area": null,
            "grid_auto_columns": null,
            "grid_auto_flow": null,
            "grid_auto_rows": null,
            "grid_column": null,
            "grid_gap": null,
            "grid_row": null,
            "grid_template_areas": null,
            "grid_template_columns": null,
            "grid_template_rows": null,
            "height": null,
            "justify_content": null,
            "justify_items": null,
            "left": null,
            "margin": null,
            "max_height": null,
            "max_width": null,
            "min_height": null,
            "min_width": null,
            "object_fit": null,
            "object_position": null,
            "order": null,
            "overflow": null,
            "overflow_x": null,
            "overflow_y": null,
            "padding": null,
            "right": null,
            "top": null,
            "visibility": null,
            "width": null
          }
        },
        "29ae36b9bf824cb4839f6d91c76c81f1": {
          "model_module": "@jupyter-widgets/base",
          "model_name": "LayoutModel",
          "model_module_version": "1.2.0",
          "state": {
            "_model_module": "@jupyter-widgets/base",
            "_model_module_version": "1.2.0",
            "_model_name": "LayoutModel",
            "_view_count": null,
            "_view_module": "@jupyter-widgets/base",
            "_view_module_version": "1.2.0",
            "_view_name": "LayoutView",
            "align_content": null,
            "align_items": null,
            "align_self": null,
            "border": null,
            "bottom": null,
            "display": null,
            "flex": null,
            "flex_flow": null,
            "grid_area": null,
            "grid_auto_columns": null,
            "grid_auto_flow": null,
            "grid_auto_rows": null,
            "grid_column": null,
            "grid_gap": null,
            "grid_row": null,
            "grid_template_areas": null,
            "grid_template_columns": null,
            "grid_template_rows": null,
            "height": null,
            "justify_content": null,
            "justify_items": null,
            "left": null,
            "margin": null,
            "max_height": null,
            "max_width": null,
            "min_height": null,
            "min_width": null,
            "object_fit": null,
            "object_position": null,
            "order": null,
            "overflow": null,
            "overflow_x": null,
            "overflow_y": null,
            "padding": null,
            "right": null,
            "top": null,
            "visibility": null,
            "width": null
          }
        },
        "e2feb70e91064b7b8e4667ac31b85a71": {
          "model_module": "@jupyter-widgets/controls",
          "model_name": "DescriptionStyleModel",
          "model_module_version": "1.5.0",
          "state": {
            "_model_module": "@jupyter-widgets/controls",
            "_model_module_version": "1.5.0",
            "_model_name": "DescriptionStyleModel",
            "_view_count": null,
            "_view_module": "@jupyter-widgets/base",
            "_view_module_version": "1.2.0",
            "_view_name": "StyleView",
            "description_width": ""
          }
        },
        "bf787ae187b043ce8728aa989a39e144": {
          "model_module": "@jupyter-widgets/base",
          "model_name": "LayoutModel",
          "model_module_version": "1.2.0",
          "state": {
            "_model_module": "@jupyter-widgets/base",
            "_model_module_version": "1.2.0",
            "_model_name": "LayoutModel",
            "_view_count": null,
            "_view_module": "@jupyter-widgets/base",
            "_view_module_version": "1.2.0",
            "_view_name": "LayoutView",
            "align_content": null,
            "align_items": null,
            "align_self": null,
            "border": null,
            "bottom": null,
            "display": null,
            "flex": null,
            "flex_flow": null,
            "grid_area": null,
            "grid_auto_columns": null,
            "grid_auto_flow": null,
            "grid_auto_rows": null,
            "grid_column": null,
            "grid_gap": null,
            "grid_row": null,
            "grid_template_areas": null,
            "grid_template_columns": null,
            "grid_template_rows": null,
            "height": null,
            "justify_content": null,
            "justify_items": null,
            "left": null,
            "margin": null,
            "max_height": null,
            "max_width": null,
            "min_height": null,
            "min_width": null,
            "object_fit": null,
            "object_position": null,
            "order": null,
            "overflow": null,
            "overflow_x": null,
            "overflow_y": null,
            "padding": null,
            "right": null,
            "top": null,
            "visibility": null,
            "width": null
          }
        },
        "3584f20072464901b6205ff5f3eb69be": {
          "model_module": "@jupyter-widgets/controls",
          "model_name": "ProgressStyleModel",
          "model_module_version": "1.5.0",
          "state": {
            "_model_module": "@jupyter-widgets/controls",
            "_model_module_version": "1.5.0",
            "_model_name": "ProgressStyleModel",
            "_view_count": null,
            "_view_module": "@jupyter-widgets/base",
            "_view_module_version": "1.2.0",
            "_view_name": "StyleView",
            "bar_color": null,
            "description_width": ""
          }
        },
        "af966827ecd24af397719b5d0362dc69": {
          "model_module": "@jupyter-widgets/base",
          "model_name": "LayoutModel",
          "model_module_version": "1.2.0",
          "state": {
            "_model_module": "@jupyter-widgets/base",
            "_model_module_version": "1.2.0",
            "_model_name": "LayoutModel",
            "_view_count": null,
            "_view_module": "@jupyter-widgets/base",
            "_view_module_version": "1.2.0",
            "_view_name": "LayoutView",
            "align_content": null,
            "align_items": null,
            "align_self": null,
            "border": null,
            "bottom": null,
            "display": null,
            "flex": null,
            "flex_flow": null,
            "grid_area": null,
            "grid_auto_columns": null,
            "grid_auto_flow": null,
            "grid_auto_rows": null,
            "grid_column": null,
            "grid_gap": null,
            "grid_row": null,
            "grid_template_areas": null,
            "grid_template_columns": null,
            "grid_template_rows": null,
            "height": null,
            "justify_content": null,
            "justify_items": null,
            "left": null,
            "margin": null,
            "max_height": null,
            "max_width": null,
            "min_height": null,
            "min_width": null,
            "object_fit": null,
            "object_position": null,
            "order": null,
            "overflow": null,
            "overflow_x": null,
            "overflow_y": null,
            "padding": null,
            "right": null,
            "top": null,
            "visibility": null,
            "width": null
          }
        },
        "81900c4273f44aba8833f86ad9a6b8d3": {
          "model_module": "@jupyter-widgets/controls",
          "model_name": "DescriptionStyleModel",
          "model_module_version": "1.5.0",
          "state": {
            "_model_module": "@jupyter-widgets/controls",
            "_model_module_version": "1.5.0",
            "_model_name": "DescriptionStyleModel",
            "_view_count": null,
            "_view_module": "@jupyter-widgets/base",
            "_view_module_version": "1.2.0",
            "_view_name": "StyleView",
            "description_width": ""
          }
        },
        "29d44796a8e34e8f93d0dda5ae27a5eb": {
          "model_module": "@jupyter-widgets/controls",
          "model_name": "HBoxModel",
          "model_module_version": "1.5.0",
          "state": {
            "_dom_classes": [],
            "_model_module": "@jupyter-widgets/controls",
            "_model_module_version": "1.5.0",
            "_model_name": "HBoxModel",
            "_view_count": null,
            "_view_module": "@jupyter-widgets/controls",
            "_view_module_version": "1.5.0",
            "_view_name": "HBoxView",
            "box_style": "",
            "children": [
              "IPY_MODEL_028589a5233c4355a695a7794dbb9566",
              "IPY_MODEL_a425b6c8f8f54d1b9d61a8e255fcd36b",
              "IPY_MODEL_5192f8d3f83c4699a32716b3997cae09"
            ],
            "layout": "IPY_MODEL_3d670446645d47bd876ff0fa55c747b4"
          }
        },
        "028589a5233c4355a695a7794dbb9566": {
          "model_module": "@jupyter-widgets/controls",
          "model_name": "HTMLModel",
          "model_module_version": "1.5.0",
          "state": {
            "_dom_classes": [],
            "_model_module": "@jupyter-widgets/controls",
            "_model_module_version": "1.5.0",
            "_model_name": "HTMLModel",
            "_view_count": null,
            "_view_module": "@jupyter-widgets/controls",
            "_view_module_version": "1.5.0",
            "_view_name": "HTMLView",
            "description": "",
            "description_tooltip": null,
            "layout": "IPY_MODEL_f62e216d7ce74076ad314760a77b9ae9",
            "placeholder": "​",
            "style": "IPY_MODEL_837ef942ea994436b5cb9ca26c08b3ca",
            "value": "vocab.txt: 100%"
          }
        },
        "a425b6c8f8f54d1b9d61a8e255fcd36b": {
          "model_module": "@jupyter-widgets/controls",
          "model_name": "FloatProgressModel",
          "model_module_version": "1.5.0",
          "state": {
            "_dom_classes": [],
            "_model_module": "@jupyter-widgets/controls",
            "_model_module_version": "1.5.0",
            "_model_name": "FloatProgressModel",
            "_view_count": null,
            "_view_module": "@jupyter-widgets/controls",
            "_view_module_version": "1.5.0",
            "_view_name": "ProgressView",
            "bar_style": "success",
            "description": "",
            "description_tooltip": null,
            "layout": "IPY_MODEL_37c41b34bc0b411d845fef44bec844ee",
            "max": 225062,
            "min": 0,
            "orientation": "horizontal",
            "style": "IPY_MODEL_bc9469369a094d328df30ddac130da7c",
            "value": 225062
          }
        },
        "5192f8d3f83c4699a32716b3997cae09": {
          "model_module": "@jupyter-widgets/controls",
          "model_name": "HTMLModel",
          "model_module_version": "1.5.0",
          "state": {
            "_dom_classes": [],
            "_model_module": "@jupyter-widgets/controls",
            "_model_module_version": "1.5.0",
            "_model_name": "HTMLModel",
            "_view_count": null,
            "_view_module": "@jupyter-widgets/controls",
            "_view_module_version": "1.5.0",
            "_view_name": "HTMLView",
            "description": "",
            "description_tooltip": null,
            "layout": "IPY_MODEL_617dd43d902948069c611a9bbd7342b3",
            "placeholder": "​",
            "style": "IPY_MODEL_4e442fe4357443788eac3204c9a979e0",
            "value": " 225k/225k [00:00&lt;00:00, 955kB/s]"
          }
        },
        "3d670446645d47bd876ff0fa55c747b4": {
          "model_module": "@jupyter-widgets/base",
          "model_name": "LayoutModel",
          "model_module_version": "1.2.0",
          "state": {
            "_model_module": "@jupyter-widgets/base",
            "_model_module_version": "1.2.0",
            "_model_name": "LayoutModel",
            "_view_count": null,
            "_view_module": "@jupyter-widgets/base",
            "_view_module_version": "1.2.0",
            "_view_name": "LayoutView",
            "align_content": null,
            "align_items": null,
            "align_self": null,
            "border": null,
            "bottom": null,
            "display": null,
            "flex": null,
            "flex_flow": null,
            "grid_area": null,
            "grid_auto_columns": null,
            "grid_auto_flow": null,
            "grid_auto_rows": null,
            "grid_column": null,
            "grid_gap": null,
            "grid_row": null,
            "grid_template_areas": null,
            "grid_template_columns": null,
            "grid_template_rows": null,
            "height": null,
            "justify_content": null,
            "justify_items": null,
            "left": null,
            "margin": null,
            "max_height": null,
            "max_width": null,
            "min_height": null,
            "min_width": null,
            "object_fit": null,
            "object_position": null,
            "order": null,
            "overflow": null,
            "overflow_x": null,
            "overflow_y": null,
            "padding": null,
            "right": null,
            "top": null,
            "visibility": null,
            "width": null
          }
        },
        "f62e216d7ce74076ad314760a77b9ae9": {
          "model_module": "@jupyter-widgets/base",
          "model_name": "LayoutModel",
          "model_module_version": "1.2.0",
          "state": {
            "_model_module": "@jupyter-widgets/base",
            "_model_module_version": "1.2.0",
            "_model_name": "LayoutModel",
            "_view_count": null,
            "_view_module": "@jupyter-widgets/base",
            "_view_module_version": "1.2.0",
            "_view_name": "LayoutView",
            "align_content": null,
            "align_items": null,
            "align_self": null,
            "border": null,
            "bottom": null,
            "display": null,
            "flex": null,
            "flex_flow": null,
            "grid_area": null,
            "grid_auto_columns": null,
            "grid_auto_flow": null,
            "grid_auto_rows": null,
            "grid_column": null,
            "grid_gap": null,
            "grid_row": null,
            "grid_template_areas": null,
            "grid_template_columns": null,
            "grid_template_rows": null,
            "height": null,
            "justify_content": null,
            "justify_items": null,
            "left": null,
            "margin": null,
            "max_height": null,
            "max_width": null,
            "min_height": null,
            "min_width": null,
            "object_fit": null,
            "object_position": null,
            "order": null,
            "overflow": null,
            "overflow_x": null,
            "overflow_y": null,
            "padding": null,
            "right": null,
            "top": null,
            "visibility": null,
            "width": null
          }
        },
        "837ef942ea994436b5cb9ca26c08b3ca": {
          "model_module": "@jupyter-widgets/controls",
          "model_name": "DescriptionStyleModel",
          "model_module_version": "1.5.0",
          "state": {
            "_model_module": "@jupyter-widgets/controls",
            "_model_module_version": "1.5.0",
            "_model_name": "DescriptionStyleModel",
            "_view_count": null,
            "_view_module": "@jupyter-widgets/base",
            "_view_module_version": "1.2.0",
            "_view_name": "StyleView",
            "description_width": ""
          }
        },
        "37c41b34bc0b411d845fef44bec844ee": {
          "model_module": "@jupyter-widgets/base",
          "model_name": "LayoutModel",
          "model_module_version": "1.2.0",
          "state": {
            "_model_module": "@jupyter-widgets/base",
            "_model_module_version": "1.2.0",
            "_model_name": "LayoutModel",
            "_view_count": null,
            "_view_module": "@jupyter-widgets/base",
            "_view_module_version": "1.2.0",
            "_view_name": "LayoutView",
            "align_content": null,
            "align_items": null,
            "align_self": null,
            "border": null,
            "bottom": null,
            "display": null,
            "flex": null,
            "flex_flow": null,
            "grid_area": null,
            "grid_auto_columns": null,
            "grid_auto_flow": null,
            "grid_auto_rows": null,
            "grid_column": null,
            "grid_gap": null,
            "grid_row": null,
            "grid_template_areas": null,
            "grid_template_columns": null,
            "grid_template_rows": null,
            "height": null,
            "justify_content": null,
            "justify_items": null,
            "left": null,
            "margin": null,
            "max_height": null,
            "max_width": null,
            "min_height": null,
            "min_width": null,
            "object_fit": null,
            "object_position": null,
            "order": null,
            "overflow": null,
            "overflow_x": null,
            "overflow_y": null,
            "padding": null,
            "right": null,
            "top": null,
            "visibility": null,
            "width": null
          }
        },
        "bc9469369a094d328df30ddac130da7c": {
          "model_module": "@jupyter-widgets/controls",
          "model_name": "ProgressStyleModel",
          "model_module_version": "1.5.0",
          "state": {
            "_model_module": "@jupyter-widgets/controls",
            "_model_module_version": "1.5.0",
            "_model_name": "ProgressStyleModel",
            "_view_count": null,
            "_view_module": "@jupyter-widgets/base",
            "_view_module_version": "1.2.0",
            "_view_name": "StyleView",
            "bar_color": null,
            "description_width": ""
          }
        },
        "617dd43d902948069c611a9bbd7342b3": {
          "model_module": "@jupyter-widgets/base",
          "model_name": "LayoutModel",
          "model_module_version": "1.2.0",
          "state": {
            "_model_module": "@jupyter-widgets/base",
            "_model_module_version": "1.2.0",
            "_model_name": "LayoutModel",
            "_view_count": null,
            "_view_module": "@jupyter-widgets/base",
            "_view_module_version": "1.2.0",
            "_view_name": "LayoutView",
            "align_content": null,
            "align_items": null,
            "align_self": null,
            "border": null,
            "bottom": null,
            "display": null,
            "flex": null,
            "flex_flow": null,
            "grid_area": null,
            "grid_auto_columns": null,
            "grid_auto_flow": null,
            "grid_auto_rows": null,
            "grid_column": null,
            "grid_gap": null,
            "grid_row": null,
            "grid_template_areas": null,
            "grid_template_columns": null,
            "grid_template_rows": null,
            "height": null,
            "justify_content": null,
            "justify_items": null,
            "left": null,
            "margin": null,
            "max_height": null,
            "max_width": null,
            "min_height": null,
            "min_width": null,
            "object_fit": null,
            "object_position": null,
            "order": null,
            "overflow": null,
            "overflow_x": null,
            "overflow_y": null,
            "padding": null,
            "right": null,
            "top": null,
            "visibility": null,
            "width": null
          }
        },
        "4e442fe4357443788eac3204c9a979e0": {
          "model_module": "@jupyter-widgets/controls",
          "model_name": "DescriptionStyleModel",
          "model_module_version": "1.5.0",
          "state": {
            "_model_module": "@jupyter-widgets/controls",
            "_model_module_version": "1.5.0",
            "_model_name": "DescriptionStyleModel",
            "_view_count": null,
            "_view_module": "@jupyter-widgets/base",
            "_view_module_version": "1.2.0",
            "_view_name": "StyleView",
            "description_width": ""
          }
        }
      }
    },
    "accelerator": "GPU"
  },
  "cells": [
    {
      "cell_type": "markdown",
      "metadata": {
        "id": "view-in-github",
        "colab_type": "text"
      },
      "source": [
        "<a href=\"https://colab.research.google.com/github/talw98/TEXT-CLASSIFICATION-WITH-BERT/blob/main/MTalhaWaqas_Lab3_Assignment.ipynb\" target=\"_parent\"><img src=\"https://colab.research.google.com/assets/colab-badge.svg\" alt=\"Open In Colab\"/></a>"
      ]
    },
    {
      "cell_type": "markdown",
      "source": [
        "# Text classification with BERT"
      ],
      "metadata": {
        "id": "ePLrbmyyYx2K"
      }
    },
    {
      "cell_type": "markdown",
      "source": [
        "ASSIGNMENT DONE BY: MUHAMMAD TALHA WAQAS"
      ],
      "metadata": {
        "id": "D0AxI0V7GXti"
      }
    },
    {
      "cell_type": "markdown",
      "source": [
        "## What is text classification?\n",
        "\n",
        "There are three classic tasks in NLP:\n",
        "\n",
        "1) Text generation (next work prediction)\n",
        "\n",
        "2) Text translation (sequence to sequence)\n",
        "\n",
        "3) Text classification (sequence to label)\n",
        "\n",
        "This lab focuses on the last task. Given a corpus and a set of labels, can we learn a model to predict labels based on the text?\n",
        "\n",
        "Example: given a Tweet from Taylor Swift, predict how many likes it will receive.\n",
        "\n",
        "Example: given a transcript of a speech by Joe Biden, predict which speechwriter wrote it.\n",
        "\n",
        "**Question**: Give three examples of text classification in the bio-medical domain.\n",
        "\n",
        "**Answer**:\n",
        "\n",
        "\n",
        "1. Disease Diagnosis from Clinical Notes\n",
        "2. Drug Repurposing\n",
        "3. Biological Entity Recognition in Text"
      ],
      "metadata": {
        "id": "7rUY57dkY9dk"
      }
    },
    {
      "cell_type": "markdown",
      "source": [
        "Prior to Transformers, there were various models used for text classification. For example, LSTM reads procsses texts token by token, with a single hidden state getting updated after reading each token. Furthermore, simpler models like regression from TF-IDF can be useful in some contexts. In this lab, we will first consider a simple TF-IDF model, then compare it with SOTA BERT models."
      ],
      "metadata": {
        "id": "r-5sAcW_aAPV"
      }
    },
    {
      "cell_type": "code",
      "source": [
        "#load libraries necessary for TF-IDF classification\n",
        "import pandas as pd\n",
        "from sklearn.feature_extraction.text import TfidfVectorizer\n",
        "from sklearn.linear_model import LogisticRegression\n",
        "import numpy as np\n",
        "import re\n",
        "import matplotlib.pyplot as plt"
      ],
      "metadata": {
        "id": "NyzHtR7pat7I"
      },
      "execution_count": null,
      "outputs": []
    },
    {
      "cell_type": "code",
      "execution_count": null,
      "metadata": {
        "id": "j6TY8vbHYt_b"
      },
      "outputs": [],
      "source": [
        "#load corpus\n",
        "df = pd.read_csv(\"covid_df.csv\")\n",
        "df = df.sample(len(df))"
      ]
    },
    {
      "cell_type": "markdown",
      "source": [
        "## Train-test split\n",
        "\n",
        "Before we perform any classification problem, it is important to perform a splitting of the data into train and test (and validation) sets. There are two general, common frameworks for dataset splitting:\n",
        "\n",
        "1) We learn our classification function based on the train set, then evaluate its goodness using the test set.\n",
        "\n",
        "2) We train several classification functions based on the train set, then choose the best one based on the validation set. We then evaluate the overall goodness of the function based on its test set performance.\n",
        "\n",
        "The first strategy is useful if you know exactly which classification function you want. The latter is useful if there are any hyper-parameters you aren't sure about (for example: learning rate, tokenization strategy, etc.).\n",
        "\n",
        "We consider several important statistics for each model:\n",
        "\n",
        "• Train/validation/test accuracy (or more sophisticated accuracy measures): the rate of accurate predictions of the model. We try and maximize this.\n",
        "\n",
        "• Train/validation/test loss: the quantity of loss, if we define an explicit loss function. We try and minimize this.\n",
        "\n",
        "\n",
        "\n",
        "**Question**: In your own words, explain why it is important to use data splitting. Furthermore, explain why an algorithm that achieves 100% training accuracy is not always a good algorithm.\n",
        "\n",
        "**ANSWER**:\n",
        "\n",
        "Data splitting is a crucial practice in machine learning for assessing a model's ability to generalize beyond the training set. By dividing the dataset into training, validation, and test sets, we can train the model on one subset, tune its hyperparameters on another, and finally evaluate its performance on unseen data. This process helps ensure that the model can make accurate predictions on new instances.\n",
        "\n",
        "An algorithm achieving 100% training accuracy implies that it has successfully learned the patterns present in the training data. However, this does not guarantee good performance on unseen data. The risk is that the model may have memorized noise or outliers in the training set, a phenomenon known as overfitting. Overfit models fail to generalize well, leading to poor performance when applied to new, unseen examples.\n",
        "\n",
        "In essence, while high training accuracy is desirable, it's not sufficient. The ultimate goal is a model that not only fits the training data well but also generalizes effectively to new, unseen data. The validation and test sets play a critical role in ensuring the model's robustness and reliability in real-world applications.\n",
        "\n",
        "**Question**: Write a function that assigns a column Split (see below):\n",
        "\n"
      ],
      "metadata": {
        "id": "NTl3MOJ4bfVk"
      }
    },
    {
      "cell_type": "code",
      "source": [
        "def assign_train_test_split(df, train_size=0.8, valid_size=0.1, random_state=None):\n",
        "    df['Split'] = \"Test\"\n",
        "    train_indices = df.sample(frac=train_size, random_state=random_state).index\n",
        "    df.loc[train_indices, 'Split'] = \"Train\"\n",
        "\n",
        "    nb_valid = int(valid_size * len(df))\n",
        "    valid_indices = df.loc[df['Split'] == \"Test\"].sample(n=nb_valid, random_state=random_state).index\n",
        "    df.loc[valid_indices, 'Split'] = \"Valid\"\n",
        "\n",
        "    return df\n",
        "\n",
        "# Example usage:\n",
        "df = pd.read_csv(\"covid_df.csv\")\n",
        "df = assign_train_test_split(df, train_size=0.8, valid_size=0.1, random_state=42)\n",
        "df\n",
        "\n",
        "\n",
        "\n"
      ],
      "metadata": {
        "id": "7Zl51XB-bPl_",
        "colab": {
          "base_uri": "https://localhost:8080/",
          "height": 424
        },
        "outputId": "939a99c5-5eaa-469d-ccef-68577ce9fcc3"
      },
      "execution_count": null,
      "outputs": [
        {
          "output_type": "execute_result",
          "data": {
            "text/plain": [
              "       doc_id                                              Title  \\\n",
              "0    37972180     Humans are biocultural, science should be too.   \n",
              "1    37972171                            The responsibility turn   \n",
              "2    37943961                          Correction is courageous.   \n",
              "3    37943932  Open science discovery of potent noncovalent S...   \n",
              "4    37943911                   Preparing for the next pandemic.   \n",
              "..        ...                                                ...   \n",
              "328  32198291  Crystal structure of SARS-CoV-2 main protease ...   \n",
              "329  32179701  Substantial undocumented infection facilitates...   \n",
              "330  32144116  The effect of travel restrictions on the sprea...   \n",
              "331  32132184  Structural basis for the recognition of SARS-C...   \n",
              "332  32075877  Cryo-EM structure of the 2019-nCoV spike in th...   \n",
              "\n",
              "                                              Abstract  Year  Split  \n",
              "0    COVID-19 is restructuring societies. Lonelines...  2023  Train  \n",
              "1    Lessons from the COVID-19 pandemic inspire a g...  2023  Valid  \n",
              "2    In a year when disagreements over scientific m...  2023  Train  \n",
              "3    We report the results of the COVID Moonshot, a...  2023  Train  \n",
              "4    New lead drugs to treat COVID-19 are beginning...  2023  Train  \n",
              "..                                                 ...   ...    ...  \n",
              "328  The coronavirus disease 2019 (COVID-19) pandem...  2020  Train  \n",
              "329  Estimation of the prevalence and contagiousnes...  2020  Train  \n",
              "330  Motivated by the rapid spread of coronavirus d...  2020  Train  \n",
              "331  Angiotensin-converting enzyme 2 (ACE2) is the ...  2020   Test  \n",
              "332  The outbreak of a novel coronavirus (2019-nCoV...  2020   Test  \n",
              "\n",
              "[333 rows x 5 columns]"
            ],
            "text/html": [
              "\n",
              "  <div id=\"df-d50e3323-1a94-409f-bd6b-4c594c044b3d\" class=\"colab-df-container\">\n",
              "    <div>\n",
              "<style scoped>\n",
              "    .dataframe tbody tr th:only-of-type {\n",
              "        vertical-align: middle;\n",
              "    }\n",
              "\n",
              "    .dataframe tbody tr th {\n",
              "        vertical-align: top;\n",
              "    }\n",
              "\n",
              "    .dataframe thead th {\n",
              "        text-align: right;\n",
              "    }\n",
              "</style>\n",
              "<table border=\"1\" class=\"dataframe\">\n",
              "  <thead>\n",
              "    <tr style=\"text-align: right;\">\n",
              "      <th></th>\n",
              "      <th>doc_id</th>\n",
              "      <th>Title</th>\n",
              "      <th>Abstract</th>\n",
              "      <th>Year</th>\n",
              "      <th>Split</th>\n",
              "    </tr>\n",
              "  </thead>\n",
              "  <tbody>\n",
              "    <tr>\n",
              "      <th>0</th>\n",
              "      <td>37972180</td>\n",
              "      <td>Humans are biocultural, science should be too.</td>\n",
              "      <td>COVID-19 is restructuring societies. Lonelines...</td>\n",
              "      <td>2023</td>\n",
              "      <td>Train</td>\n",
              "    </tr>\n",
              "    <tr>\n",
              "      <th>1</th>\n",
              "      <td>37972171</td>\n",
              "      <td>The responsibility turn</td>\n",
              "      <td>Lessons from the COVID-19 pandemic inspire a g...</td>\n",
              "      <td>2023</td>\n",
              "      <td>Valid</td>\n",
              "    </tr>\n",
              "    <tr>\n",
              "      <th>2</th>\n",
              "      <td>37943961</td>\n",
              "      <td>Correction is courageous.</td>\n",
              "      <td>In a year when disagreements over scientific m...</td>\n",
              "      <td>2023</td>\n",
              "      <td>Train</td>\n",
              "    </tr>\n",
              "    <tr>\n",
              "      <th>3</th>\n",
              "      <td>37943932</td>\n",
              "      <td>Open science discovery of potent noncovalent S...</td>\n",
              "      <td>We report the results of the COVID Moonshot, a...</td>\n",
              "      <td>2023</td>\n",
              "      <td>Train</td>\n",
              "    </tr>\n",
              "    <tr>\n",
              "      <th>4</th>\n",
              "      <td>37943911</td>\n",
              "      <td>Preparing for the next pandemic.</td>\n",
              "      <td>New lead drugs to treat COVID-19 are beginning...</td>\n",
              "      <td>2023</td>\n",
              "      <td>Train</td>\n",
              "    </tr>\n",
              "    <tr>\n",
              "      <th>...</th>\n",
              "      <td>...</td>\n",
              "      <td>...</td>\n",
              "      <td>...</td>\n",
              "      <td>...</td>\n",
              "      <td>...</td>\n",
              "    </tr>\n",
              "    <tr>\n",
              "      <th>328</th>\n",
              "      <td>32198291</td>\n",
              "      <td>Crystal structure of SARS-CoV-2 main protease ...</td>\n",
              "      <td>The coronavirus disease 2019 (COVID-19) pandem...</td>\n",
              "      <td>2020</td>\n",
              "      <td>Train</td>\n",
              "    </tr>\n",
              "    <tr>\n",
              "      <th>329</th>\n",
              "      <td>32179701</td>\n",
              "      <td>Substantial undocumented infection facilitates...</td>\n",
              "      <td>Estimation of the prevalence and contagiousnes...</td>\n",
              "      <td>2020</td>\n",
              "      <td>Train</td>\n",
              "    </tr>\n",
              "    <tr>\n",
              "      <th>330</th>\n",
              "      <td>32144116</td>\n",
              "      <td>The effect of travel restrictions on the sprea...</td>\n",
              "      <td>Motivated by the rapid spread of coronavirus d...</td>\n",
              "      <td>2020</td>\n",
              "      <td>Train</td>\n",
              "    </tr>\n",
              "    <tr>\n",
              "      <th>331</th>\n",
              "      <td>32132184</td>\n",
              "      <td>Structural basis for the recognition of SARS-C...</td>\n",
              "      <td>Angiotensin-converting enzyme 2 (ACE2) is the ...</td>\n",
              "      <td>2020</td>\n",
              "      <td>Test</td>\n",
              "    </tr>\n",
              "    <tr>\n",
              "      <th>332</th>\n",
              "      <td>32075877</td>\n",
              "      <td>Cryo-EM structure of the 2019-nCoV spike in th...</td>\n",
              "      <td>The outbreak of a novel coronavirus (2019-nCoV...</td>\n",
              "      <td>2020</td>\n",
              "      <td>Test</td>\n",
              "    </tr>\n",
              "  </tbody>\n",
              "</table>\n",
              "<p>333 rows × 5 columns</p>\n",
              "</div>\n",
              "    <div class=\"colab-df-buttons\">\n",
              "\n",
              "  <div class=\"colab-df-container\">\n",
              "    <button class=\"colab-df-convert\" onclick=\"convertToInteractive('df-d50e3323-1a94-409f-bd6b-4c594c044b3d')\"\n",
              "            title=\"Convert this dataframe to an interactive table.\"\n",
              "            style=\"display:none;\">\n",
              "\n",
              "  <svg xmlns=\"http://www.w3.org/2000/svg\" height=\"24px\" viewBox=\"0 -960 960 960\">\n",
              "    <path d=\"M120-120v-720h720v720H120Zm60-500h600v-160H180v160Zm220 220h160v-160H400v160Zm0 220h160v-160H400v160ZM180-400h160v-160H180v160Zm440 0h160v-160H620v160ZM180-180h160v-160H180v160Zm440 0h160v-160H620v160Z\"/>\n",
              "  </svg>\n",
              "    </button>\n",
              "\n",
              "  <style>\n",
              "    .colab-df-container {\n",
              "      display:flex;\n",
              "      gap: 12px;\n",
              "    }\n",
              "\n",
              "    .colab-df-convert {\n",
              "      background-color: #E8F0FE;\n",
              "      border: none;\n",
              "      border-radius: 50%;\n",
              "      cursor: pointer;\n",
              "      display: none;\n",
              "      fill: #1967D2;\n",
              "      height: 32px;\n",
              "      padding: 0 0 0 0;\n",
              "      width: 32px;\n",
              "    }\n",
              "\n",
              "    .colab-df-convert:hover {\n",
              "      background-color: #E2EBFA;\n",
              "      box-shadow: 0px 1px 2px rgba(60, 64, 67, 0.3), 0px 1px 3px 1px rgba(60, 64, 67, 0.15);\n",
              "      fill: #174EA6;\n",
              "    }\n",
              "\n",
              "    .colab-df-buttons div {\n",
              "      margin-bottom: 4px;\n",
              "    }\n",
              "\n",
              "    [theme=dark] .colab-df-convert {\n",
              "      background-color: #3B4455;\n",
              "      fill: #D2E3FC;\n",
              "    }\n",
              "\n",
              "    [theme=dark] .colab-df-convert:hover {\n",
              "      background-color: #434B5C;\n",
              "      box-shadow: 0px 1px 3px 1px rgba(0, 0, 0, 0.15);\n",
              "      filter: drop-shadow(0px 1px 2px rgba(0, 0, 0, 0.3));\n",
              "      fill: #FFFFFF;\n",
              "    }\n",
              "  </style>\n",
              "\n",
              "    <script>\n",
              "      const buttonEl =\n",
              "        document.querySelector('#df-d50e3323-1a94-409f-bd6b-4c594c044b3d button.colab-df-convert');\n",
              "      buttonEl.style.display =\n",
              "        google.colab.kernel.accessAllowed ? 'block' : 'none';\n",
              "\n",
              "      async function convertToInteractive(key) {\n",
              "        const element = document.querySelector('#df-d50e3323-1a94-409f-bd6b-4c594c044b3d');\n",
              "        const dataTable =\n",
              "          await google.colab.kernel.invokeFunction('convertToInteractive',\n",
              "                                                    [key], {});\n",
              "        if (!dataTable) return;\n",
              "\n",
              "        const docLinkHtml = 'Like what you see? Visit the ' +\n",
              "          '<a target=\"_blank\" href=https://colab.research.google.com/notebooks/data_table.ipynb>data table notebook</a>'\n",
              "          + ' to learn more about interactive tables.';\n",
              "        element.innerHTML = '';\n",
              "        dataTable['output_type'] = 'display_data';\n",
              "        await google.colab.output.renderOutput(dataTable, element);\n",
              "        const docLink = document.createElement('div');\n",
              "        docLink.innerHTML = docLinkHtml;\n",
              "        element.appendChild(docLink);\n",
              "      }\n",
              "    </script>\n",
              "  </div>\n",
              "\n",
              "\n",
              "<div id=\"df-bf208606-9710-4cc7-8a1b-88f1dc764ced\">\n",
              "  <button class=\"colab-df-quickchart\" onclick=\"quickchart('df-bf208606-9710-4cc7-8a1b-88f1dc764ced')\"\n",
              "            title=\"Suggest charts\"\n",
              "            style=\"display:none;\">\n",
              "\n",
              "<svg xmlns=\"http://www.w3.org/2000/svg\" height=\"24px\"viewBox=\"0 0 24 24\"\n",
              "     width=\"24px\">\n",
              "    <g>\n",
              "        <path d=\"M19 3H5c-1.1 0-2 .9-2 2v14c0 1.1.9 2 2 2h14c1.1 0 2-.9 2-2V5c0-1.1-.9-2-2-2zM9 17H7v-7h2v7zm4 0h-2V7h2v10zm4 0h-2v-4h2v4z\"/>\n",
              "    </g>\n",
              "</svg>\n",
              "  </button>\n",
              "\n",
              "<style>\n",
              "  .colab-df-quickchart {\n",
              "      --bg-color: #E8F0FE;\n",
              "      --fill-color: #1967D2;\n",
              "      --hover-bg-color: #E2EBFA;\n",
              "      --hover-fill-color: #174EA6;\n",
              "      --disabled-fill-color: #AAA;\n",
              "      --disabled-bg-color: #DDD;\n",
              "  }\n",
              "\n",
              "  [theme=dark] .colab-df-quickchart {\n",
              "      --bg-color: #3B4455;\n",
              "      --fill-color: #D2E3FC;\n",
              "      --hover-bg-color: #434B5C;\n",
              "      --hover-fill-color: #FFFFFF;\n",
              "      --disabled-bg-color: #3B4455;\n",
              "      --disabled-fill-color: #666;\n",
              "  }\n",
              "\n",
              "  .colab-df-quickchart {\n",
              "    background-color: var(--bg-color);\n",
              "    border: none;\n",
              "    border-radius: 50%;\n",
              "    cursor: pointer;\n",
              "    display: none;\n",
              "    fill: var(--fill-color);\n",
              "    height: 32px;\n",
              "    padding: 0;\n",
              "    width: 32px;\n",
              "  }\n",
              "\n",
              "  .colab-df-quickchart:hover {\n",
              "    background-color: var(--hover-bg-color);\n",
              "    box-shadow: 0 1px 2px rgba(60, 64, 67, 0.3), 0 1px 3px 1px rgba(60, 64, 67, 0.15);\n",
              "    fill: var(--button-hover-fill-color);\n",
              "  }\n",
              "\n",
              "  .colab-df-quickchart-complete:disabled,\n",
              "  .colab-df-quickchart-complete:disabled:hover {\n",
              "    background-color: var(--disabled-bg-color);\n",
              "    fill: var(--disabled-fill-color);\n",
              "    box-shadow: none;\n",
              "  }\n",
              "\n",
              "  .colab-df-spinner {\n",
              "    border: 2px solid var(--fill-color);\n",
              "    border-color: transparent;\n",
              "    border-bottom-color: var(--fill-color);\n",
              "    animation:\n",
              "      spin 1s steps(1) infinite;\n",
              "  }\n",
              "\n",
              "  @keyframes spin {\n",
              "    0% {\n",
              "      border-color: transparent;\n",
              "      border-bottom-color: var(--fill-color);\n",
              "      border-left-color: var(--fill-color);\n",
              "    }\n",
              "    20% {\n",
              "      border-color: transparent;\n",
              "      border-left-color: var(--fill-color);\n",
              "      border-top-color: var(--fill-color);\n",
              "    }\n",
              "    30% {\n",
              "      border-color: transparent;\n",
              "      border-left-color: var(--fill-color);\n",
              "      border-top-color: var(--fill-color);\n",
              "      border-right-color: var(--fill-color);\n",
              "    }\n",
              "    40% {\n",
              "      border-color: transparent;\n",
              "      border-right-color: var(--fill-color);\n",
              "      border-top-color: var(--fill-color);\n",
              "    }\n",
              "    60% {\n",
              "      border-color: transparent;\n",
              "      border-right-color: var(--fill-color);\n",
              "    }\n",
              "    80% {\n",
              "      border-color: transparent;\n",
              "      border-right-color: var(--fill-color);\n",
              "      border-bottom-color: var(--fill-color);\n",
              "    }\n",
              "    90% {\n",
              "      border-color: transparent;\n",
              "      border-bottom-color: var(--fill-color);\n",
              "    }\n",
              "  }\n",
              "</style>\n",
              "\n",
              "  <script>\n",
              "    async function quickchart(key) {\n",
              "      const quickchartButtonEl =\n",
              "        document.querySelector('#' + key + ' button');\n",
              "      quickchartButtonEl.disabled = true;  // To prevent multiple clicks.\n",
              "      quickchartButtonEl.classList.add('colab-df-spinner');\n",
              "      try {\n",
              "        const charts = await google.colab.kernel.invokeFunction(\n",
              "            'suggestCharts', [key], {});\n",
              "      } catch (error) {\n",
              "        console.error('Error during call to suggestCharts:', error);\n",
              "      }\n",
              "      quickchartButtonEl.classList.remove('colab-df-spinner');\n",
              "      quickchartButtonEl.classList.add('colab-df-quickchart-complete');\n",
              "    }\n",
              "    (() => {\n",
              "      let quickchartButtonEl =\n",
              "        document.querySelector('#df-bf208606-9710-4cc7-8a1b-88f1dc764ced button');\n",
              "      quickchartButtonEl.style.display =\n",
              "        google.colab.kernel.accessAllowed ? 'block' : 'none';\n",
              "    })();\n",
              "  </script>\n",
              "</div>\n",
              "    </div>\n",
              "  </div>\n"
            ]
          },
          "metadata": {},
          "execution_count": 4
        }
      ]
    },
    {
      "cell_type": "code",
      "source": [
        "#Did your function work?\n",
        "# Assertion checks\n",
        "assert np.fabs(len(df[df[\"Split\"] == \"Train\"]) - len(df) * 0.8) < 10\n",
        "assert np.fabs(len(df[df[\"Split\"] == \"Valid\"]) - len(df) * 0.1) < 10\n",
        "assert np.fabs(len(df[df[\"Split\"] == \"Test\"]) - len(df) * 0.1) < 10\n"
      ],
      "metadata": {
        "id": "1fEaGjxKigyT"
      },
      "execution_count": null,
      "outputs": []
    },
    {
      "cell_type": "code",
      "source": [
        "import spacy\n",
        "nlp = spacy.load(\"en_core_web_sm\") #this could take a minute to download the first time"
      ],
      "metadata": {
        "id": "cqXbXuMxk6Wr"
      },
      "execution_count": null,
      "outputs": []
    },
    {
      "cell_type": "code",
      "source": [
        "def clean(sentence):\n",
        "    sentence = nlp(sentence)\n",
        "    ret = []\n",
        "    for word in sentence:\n",
        "        if word.is_stop: continue\n",
        "        lem = word.lemma_\n",
        "        ret.append(lem)\n",
        "    spacy_cleaned = \" \".join(ret)\n",
        "    sent = re.sub('[^A-Za-z]', ' ', spacy_cleaned)\n",
        "    sent = re.sub('\\s+', ' ', sent)\n",
        "    return sent\n",
        "\n",
        "df[\"Abstract_Cleaned\"] = df[\"Abstract\"].apply(clean)"
      ],
      "metadata": {
        "id": "D8gZQGiogxcN"
      },
      "execution_count": null,
      "outputs": []
    },
    {
      "cell_type": "markdown",
      "source": [
        "## TF-IDF classifier\n",
        "\n",
        "The task at hand is to predict the year of each article based on its abstract. We hypothesize that there is temporal vocabulary change that occurs when talking about COVID-19, such that certain terms, phrases, or ways of speaking about the disease will change over time. We will first use a simpler method for this - classification using TF-IDF vectors.\n",
        "\n"
      ],
      "metadata": {
        "id": "JqBO34a5jsyA"
      }
    },
    {
      "cell_type": "code",
      "source": [
        "def get_tfidf_vectors_and_labels(df, split = \"Train\", max_features = 100):\n",
        "    #new TF-IDF vectorizer considering only the 1000 most common terms\n",
        "    vectorizer = TfidfVectorizer(max_features=max_features)\n",
        "    #compute the TF-IDF vectors for each cleaned abstract\n",
        "    vectorizer.fit(df[df.Split==\"Train\"][\"Abstract_Cleaned\"])\n",
        "    vectors = vectorizer.transform(df[df.Split==split][\"Abstract_Cleaned\"])\n",
        "\n",
        "    labels = df[df.Split==split][\"Year\"]\n",
        "    return vectors.toarray(), labels"
      ],
      "metadata": {
        "id": "AAp3RTnAj9Gu"
      },
      "execution_count": null,
      "outputs": []
    },
    {
      "cell_type": "markdown",
      "source": [
        "**Question**: Describe the vocabulary terms recovered by TF-IDF vectorization. Are there any numbers? Why not\n",
        "\n",
        "*hint: use the get_feature_names_out method*"
      ],
      "metadata": {
        "id": "AJVEInv8umKy"
      }
    },
    {
      "cell_type": "code",
      "source": [
        "def get_tfidf_vectors_and_labels(df, split=\"Train\", max_features=100):\n",
        "    # New TF-IDF vectorizer considering only the specified number of most common terms\n",
        "    vectorizer = TfidfVectorizer(max_features=max_features)\n",
        "\n",
        "    # Compute the TF-IDF vectors for each cleaned abstract in the training set\n",
        "    vectorizer.fit(df[df.Split == \"Train\"][\"Abstract_Cleaned\"])\n",
        "\n",
        "    # Get the TF-IDF vectors for the specified split\n",
        "    vectors = vectorizer.transform(df[df.Split == split][\"Abstract_Cleaned\"]).toarray()\n",
        "\n",
        "    # Get the labels for the specified split\n",
        "    labels = df[df.Split == split][\"Year\"]\n",
        "\n",
        "\n",
        "    return vectors, labels\n",
        "\n",
        "\n",
        "train_vectors, train_labels = get_tfidf_vectors_and_labels(df, split=\"Train\", max_features=100)\n",
        "\n"
      ],
      "metadata": {
        "id": "pk5f9aF5_SQd"
      },
      "execution_count": null,
      "outputs": []
    },
    {
      "cell_type": "code",
      "source": [
        "vectorizer = TfidfVectorizer(max_features=100)\n",
        "vectorizer.fit(df[df.Split == \"Train\"][\"Abstract_Cleaned\"])\n",
        "\n",
        "vocabulary = vectorizer.get_feature_names_out()\n",
        "vocabulary\n"
      ],
      "metadata": {
        "colab": {
          "base_uri": "https://localhost:8080/"
        },
        "id": "QII0ikJMYLxU",
        "outputId": "618d2526-c8e7-41aa-c9a5-ed86d3dd74cc"
      },
      "execution_count": null,
      "outputs": [
        {
          "output_type": "execute_result",
          "data": {
            "text/plain": [
              "array(['ace', 'activity', 'acute', 'age', 'analysis', 'animal',\n",
              "       'antibodie', 'antibody', 'antiviral', 'ba', 'bind', 'case',\n",
              "       'cause', 'cell', 'change', 'china', 'clinical', 'concern',\n",
              "       'contact', 'control', 'coronavirus', 'country', 'cov', 'covid',\n",
              "       'datum', 'death', 'delta', 'design', 'disease', 'domain', 'dose',\n",
              "       'drug', 'early', 'effect', 'epidemic', 'epitope', 'escape',\n",
              "       'estimate', 'find', 'future', 'global', 'health', 'high', 'human',\n",
              "       'identify', 'immune', 'immunity', 'include', 'increase',\n",
              "       'individual', 'infect', 'infection', 'intervention', 'lead',\n",
              "       'level', 'low', 'model', 'mrna', 'mutation', 'need',\n",
              "       'neutralization', 'neutralize', 'new', 'omicron', 'pandemic',\n",
              "       'patient', 'population', 'protein', 'provide', 'public', 'rbd',\n",
              "       'receptor', 'reduce', 'report', 'respiratory', 'response',\n",
              "       'result', 'reveal', 'rna', 'sars', 'severe', 'show', 'spike',\n",
              "       'spread', 'structure', 'study', 'syndrome', 'target',\n",
              "       'therapeutic', 'time', 'transmission', 'type', 'understand',\n",
              "       'vaccination', 'vaccine', 'variant', 'viral', 'virus', 'wuhan',\n",
              "       'year'], dtype=object)"
            ]
          },
          "metadata": {},
          "execution_count": 29
        }
      ]
    },
    {
      "cell_type": "markdown",
      "source": [
        "There are no numbers because the default token pattern in scikit-learn's TfidfVectorizer considers only words with two or more characters"
      ],
      "metadata": {
        "id": "Sp97RIiY_pry"
      }
    },
    {
      "cell_type": "markdown",
      "source": [
        "**Question**: Visualize the distribution of years."
      ],
      "metadata": {
        "id": "h_C8l500FKJf"
      }
    },
    {
      "cell_type": "code",
      "source": [
        "#todo: year visualization (hint: use a bar graph!)\n",
        "import matplotlib.pyplot as plt\n",
        "\n",
        "years_distribution = df[\"Year\"].value_counts().sort_index()\n",
        "\n",
        "# Plotting\n",
        "plt.figure(figsize=(10, 6))\n",
        "plt.bar(years_distribution.index, years_distribution.values, color='skyblue')\n",
        "plt.title('Distribution of Years')\n",
        "plt.xlabel('Year')\n",
        "plt.ylabel('Count')\n",
        "plt.show()\n"
      ],
      "metadata": {
        "id": "JbAjmsWhJDBf",
        "colab": {
          "base_uri": "https://localhost:8080/",
          "height": 564
        },
        "outputId": "c9891389-d0fc-4861-f4f3-d102a7c3651a"
      },
      "execution_count": null,
      "outputs": [
        {
          "output_type": "display_data",
          "data": {
            "text/plain": [
              "<Figure size 1000x600 with 1 Axes>"
            ],
            "image/png": "[encoded data removed]"
          },
          "metadata": {}
        }
      ]
    },
    {
      "cell_type": "markdown",
      "source": [
        "We have several choices of metric to measure the performance of our classifier. The most obvious is accuracy - simply the number of correct predictions over the number of total predictions. However, this metric is less interesting for unabalanced classes (as we have in this case).\n",
        "\n",
        "**Question**: give an example of a classification problem in which the accuracy metric is misleadingly optimistic.\n",
        "\n",
        "**ANSWER**:In fraud detection, where fraudulent transactions are rare compared to legitimate ones, the accuracy metric can be misleadingly optimistic. If the majority of transactions are legitimate, a model that predicts all transactions as legitimate (classifies everything as the majority class) would still achieve a high accuracy because it correctly predicts the majority class in the imbalanced dataset. However, such a model would be ineffective at identifying fraudulent transactions, making accuracy an inadequate metric for evaluating its performance in this context.\n",
        "\n",
        "\n",
        "\n",
        "Therefore, in NLP classification problems, we typically use the F1-score, which is the harmonic mean between precision and recall. This gives us a more nuanced picture of our classifier's performance over all the classes. There are several flavours of F1 score, most notably \"macro\" and \"weighted\" - the former weights each class equally, while the latter weights each class according to its prevalence, giving higher weight to more prevalent classes.\n",
        "\n",
        "**Question**: Which type of F1 score would you like to use? There are good arguments for both, so feel free to pick :)\n",
        "\n",
        "**ANSWER**:\n",
        "\n",
        "I'd go with the \"weighted\" F1-score. Considering the imbalanced nature of the classification problem (predicting the year of articles), the \"weighted\" F1-score takes into account the prevalence of each class. This helps in providing a more balanced evaluation, giving higher importance to the performance on less prevalent classes. It aligns well with the potential imbalance in the distribution of publication years in the dataset."
      ],
      "metadata": {
        "id": "9KI7ncCV0QAu"
      }
    },
    {
      "cell_type": "code",
      "source": [
        "from sklearn.metrics import f1_score"
      ],
      "metadata": {
        "id": "JPJVdP0X0Osq"
      },
      "execution_count": null,
      "outputs": []
    },
    {
      "cell_type": "code",
      "source": [
        "def do_tfidf_prediction(df, max_features):\n",
        "    vectors_train, labels_train = get_tfidf_vectors_and_labels(df, split=\"Train\", max_features = max_features)\n",
        "    vectors_valid, labels_valid = get_tfidf_vectors_and_labels(df, split=\"Valid\", max_features = max_features)\n",
        "\n",
        "    tfidf_classifier = LogisticRegression().fit(vectors_train, labels_train)\n",
        "    predictions_train = tfidf_classifier.predict(vectors_train)\n",
        "    predictions_valid = tfidf_classifier.predict(vectors_valid)\n",
        "    f1_train = f1_score(labels_train, predictions_train, average='macro') #or weighted if you'd like!\n",
        "    f1_valid = f1_score(labels_valid, predictions_valid, average='macro') #or weighted if you'd like!\n",
        "    #    accuracy = (predictions_valid == labels_valid).sum()/len(predictions_valid)\n",
        "    return f1_train, f1_valid\n",
        "\n",
        "f1_scores_train = []\n",
        "f1_scores_valid = []\n",
        "max_features_array = [5,10,100,500,1000]\n",
        "for max_features in max_features_array:\n",
        "    f1_train, f1_valid = do_tfidf_prediction(df, max_features = max_features)\n",
        "    f1_scores_train.append(f1_train)\n",
        "    f1_scores_valid.append(f1_valid)\n",
        "\n",
        "plt.plot(np.arange(len(max_features_array)),f1_scores_train,label=\"F1 Train\")\n",
        "plt.plot(np.arange(len(max_features_array)),f1_scores_valid,label=\"F1 Valid\")\n",
        "plt.xticks(np.arange(len(max_features_array)),max_features_array)\n",
        "plt.xlabel(\"Vocabulary size\")\n",
        "plt.ylabel(\"F1 score\")\n",
        "plt.legend()"
      ],
      "metadata": {
        "id": "Vc0HEnZYmnz3",
        "colab": {
          "base_uri": "https://localhost:8080/",
          "height": 466
        },
        "outputId": "d136fc11-d424-474b-ef5c-7f8fc0cf67cc"
      },
      "execution_count": null,
      "outputs": [
        {
          "output_type": "execute_result",
          "data": {
            "text/plain": [
              "<matplotlib.legend.Legend at 0x7fe2d90159c0>"
            ]
          },
          "metadata": {},
          "execution_count": 26
        },
        {
          "output_type": "display_data",
          "data": {
            "text/plain": [
              "<Figure size 640x480 with 1 Axes>"
            ],
            "image/png": "[encoded data removed]"
          },
          "metadata": {}
        }
      ]
    },
    {
      "cell_type": "markdown",
      "source": [
        "**Question**: What is the optimal value for max_features? Evaluate the classifier on the test set for that best value.\n",
        "\n"
      ],
      "metadata": {
        "id": "hHW5U8Wtitj-"
      }
    },
    {
      "cell_type": "code",
      "source": [
        "best_max_features = None\n",
        "best_f1_valid = 0.0\n",
        "\n",
        "for max_features in max_features_array:\n",
        "    f1_train, f1_valid = do_tfidf_prediction(df, max_features=max_features)\n",
        "    f1_scores_train.append(f1_train)\n",
        "    f1_scores_valid.append(f1_valid)\n",
        "\n",
        "    # Check if current max_features gives a better F1 score on the validation set\n",
        "    if f1_valid > best_f1_valid:\n",
        "        best_f1_valid = f1_valid\n",
        "        best_max_features = max_features\n",
        "\n",
        "# Print the best_max_features\n",
        "print(\"Optimal max_features:\", best_max_features)\n",
        "\n",
        "# Evaluate the classifier on the test set using the best_max_features\n",
        "f1_train_best, f1_test_best = do_tfidf_prediction(df, max_features=best_max_features)\n",
        "\n",
        "# Print the F1 score on the test set\n",
        "print(\"F1 score on the test set with optimal max_features:\", f1_test_best)\n"
      ],
      "metadata": {
        "colab": {
          "base_uri": "https://localhost:8080/"
        },
        "id": "j5xzmzUmD_XI",
        "outputId": "d87a7234-5625-43a1-c075-0f77b6919987"
      },
      "execution_count": null,
      "outputs": [
        {
          "output_type": "stream",
          "name": "stdout",
          "text": [
            "Optimal max_features: 10\n",
            "F1 score on the test set with optimal max_features: 0.45009620009620016\n"
          ]
        }
      ]
    },
    {
      "cell_type": "markdown",
      "source": [
        "The F1 score in this scenario is 0.45"
      ],
      "metadata": {
        "id": "EBzvoFXREdS9"
      }
    },
    {
      "cell_type": "markdown",
      "source": [
        "**Question**: What features would you use if you were designing a linear classifier by hand?\n",
        "\n",
        "**ANSWER**:\n",
        "\n",
        "If I were designing a linear classifier by hand for predicting the year of articles based on abstracts, I would consider using features such as:\n",
        "- Word presence or frequency, including unigrams and n-grams.\n",
        "- Term Frequency-Inverse Document Frequency (TF-IDF).\n",
        "- Sentence or document length.\n",
        "- Part-of-speech (POS) tags.\n",
        "- Temporal information related to publication date.\n",
        "- Topic modeling features.\n",
        "- Named Entity Recognition (NER).\n",
        "- Punctuation and special characters.\n",
        "- Domain-specific features, if applicable.\n",
        "\n",
        "The choice of features would depend on the characteristics of the dataset and the hypothesis about temporal vocabulary change.\n",
        "\n",
        "**Bonus**: Create a custom linear classifier based on your answer to the previous question. How does it perform in comparison to the TF-IDF baselines?"
      ],
      "metadata": {
        "id": "LC-gXxjFD72E"
      }
    },
    {
      "cell_type": "markdown",
      "source": [
        "# BERT for Text Classification\n",
        "\n",
        "We will now use a more sophisticated classification model, BERT. BERT (read more [here](https://arxiv.org/abs/1810.04805)) is a Transformer network (read more [here](https://arxiv.org/abs/1706.03762)). That means that it is a deep neural network in which each layer is actual comprised of a Transformer block, whose architecture is described in the linked paper - read more about it in this illustration [here](https://jalammar.github.io/illustrated-transformer/).\n",
        "\n",
        "BERT is useful for text classification because it generates a latent representation for every input token based on its context. The output of BERT is there an $Nx768$ dimensional matrix, where $N$ is the number of tokens in the sequence input, and 768 is the size of token vectors produced by BERT. (Note: other models use different sized representations. The larger the representation, the more precise they can be, but also the more resources they require to both train and evaluate). We can then use these latent representations as inputs to a downstream task (such as sentence classification).\n",
        "\n",
        "We perform sentence classification by evaluating the special classification token that we insert at the very beginning of sentences before passing them to BERT. The self-attention mechanism (see the previously linked articles for more information) allows for a latent representation of the classifier token to reflect the input text as a whole."
      ],
      "metadata": {
        "id": "dEMSQ7-9v3Lw"
      }
    },
    {
      "cell_type": "markdown",
      "source": [
        "We will be using the following tools & resources for Python:\n",
        "- [PyTorch](https://pytorch.org/docs/stable/index.html) : an open-source library for machine learning\n",
        "- [transformers](https://huggingface.co/docs/transformers/index) by [Hugging Face](https://huggingface.co/): a Pytorch-based library for automatic language processing and in particular Transformer-type neural models (such as BERT)\n",
        "- [tokenizers](https://huggingface.co/docs/tokenizers/python/latest/), also provided by Hugging Face: a Pytorch-based library for tokenisation, explicitly designed to work with the Transformers library"
      ],
      "metadata": {
        "id": "to6AonmqyxFs"
      }
    },
    {
      "cell_type": "code",
      "source": [
        "!pip install transformers tokenizers\n",
        "import torch\n",
        "import transformers"
      ],
      "metadata": {
        "id": "Y0NioMeDzSXk",
        "colab": {
          "base_uri": "https://localhost:8080/"
        },
        "outputId": "d7a8312d-d5e9-4ebb-aafe-311dd65a8b70"
      },
      "execution_count": null,
      "outputs": [
        {
          "output_type": "stream",
          "name": "stdout",
          "text": [
            "Requirement already satisfied: transformers in /usr/local/lib/python3.10/dist-packages (4.35.2)\n",
            "Requirement already satisfied: tokenizers in /usr/local/lib/python3.10/dist-packages (0.15.0)\n",
            "Requirement already satisfied: filelock in /usr/local/lib/python3.10/dist-packages (from transformers) (3.13.1)\n",
            "Requirement already satisfied: huggingface-hub<1.0,>=0.16.4 in /usr/local/lib/python3.10/dist-packages (from transformers) (0.19.4)\n",
            "Requirement already satisfied: numpy>=1.17 in /usr/local/lib/python3.10/dist-packages (from transformers) (1.23.5)\n",
            "Requirement already satisfied: packaging>=20.0 in /usr/local/lib/python3.10/dist-packages (from transformers) (23.2)\n",
            "Requirement already satisfied: pyyaml>=5.1 in /usr/local/lib/python3.10/dist-packages (from transformers) (6.0.1)\n",
            "Requirement already satisfied: regex!=2019.12.17 in /usr/local/lib/python3.10/dist-packages (from transformers) (2023.6.3)\n",
            "Requirement already satisfied: requests in /usr/local/lib/python3.10/dist-packages (from transformers) (2.31.0)\n",
            "Requirement already satisfied: safetensors>=0.3.1 in /usr/local/lib/python3.10/dist-packages (from transformers) (0.4.1)\n",
            "Requirement already satisfied: tqdm>=4.27 in /usr/local/lib/python3.10/dist-packages (from transformers) (4.66.1)\n",
            "Requirement already satisfied: fsspec>=2023.5.0 in /usr/local/lib/python3.10/dist-packages (from huggingface-hub<1.0,>=0.16.4->transformers) (2023.6.0)\n",
            "Requirement already satisfied: typing-extensions>=3.7.4.3 in /usr/local/lib/python3.10/dist-packages (from huggingface-hub<1.0,>=0.16.4->transformers) (4.5.0)\n",
            "Requirement already satisfied: charset-normalizer<4,>=2 in /usr/local/lib/python3.10/dist-packages (from requests->transformers) (3.3.2)\n",
            "Requirement already satisfied: idna<4,>=2.5 in /usr/local/lib/python3.10/dist-packages (from requests->transformers) (3.6)\n",
            "Requirement already satisfied: urllib3<3,>=1.21.1 in /usr/local/lib/python3.10/dist-packages (from requests->transformers) (2.0.7)\n",
            "Requirement already satisfied: certifi>=2017.4.17 in /usr/local/lib/python3.10/dist-packages (from requests->transformers) (2023.11.17)\n"
          ]
        }
      ]
    },
    {
      "cell_type": "markdown",
      "source": [
        "Training our neural network requires a lot of matrix calculations. If available, we can use a graphics processor (GPU) to perform these calculations faster. On Colab, you can use a GPU by clicking on Runtime -> Change runtime type and then selecting the \"GPU\" option from the drop-down Hardware Accelerator menu."
      ],
      "metadata": {
        "id": "CIXJmuYGyn3w"
      }
    },
    {
      "cell_type": "code",
      "source": [
        "if torch.cuda.is_available():\n",
        "    print('GPU available!')\n",
        "    device = torch.cuda.current_device()\n",
        "else:\n",
        "    print('GPU unavailable - CPU will be used for all calculations')\n",
        "    device = None"
      ],
      "metadata": {
        "id": "FXuR7Q9ZynYP",
        "colab": {
          "base_uri": "https://localhost:8080/"
        },
        "outputId": "8820d5b8-30e5-445e-b756-621e25cd2656"
      },
      "execution_count": null,
      "outputs": [
        {
          "output_type": "stream",
          "name": "stdout",
          "text": [
            "GPU available!\n"
          ]
        }
      ]
    },
    {
      "cell_type": "markdown",
      "source": [
        "For our use case, we will use a pre-trained bio-medical BERT model. That means someone else has pre-trained it on bio-medical texts and provided that model for public use. That is very convenient - the pre-training step is very time-consuming, but necessary in order to use for down-stream tasks. You can think of it analogously to a human brain - when you are born, your brain doesn't know very much yet, so it would be very difficult to teach you complex tasks; however, an adult's brain has already been \"pre-trained\" with knowledge, and can thus learn a complex downstream task. The architecture of the two brains is, for the purpose of this analogy, identical, but the information stored in their synapses is different.\n",
        "\n",
        " Let's start with the model PubMedBert (read about it [here](https://huggingface.co/microsoft/BiomedNLP-BiomedBERT-base-uncased-abstract)). It has been trained on abstracts from PubMed! (Note that there are plenty of bio-medical BERT models, each with slightly different architecture and slightly different training data, all of which perform roughly equally well on most benchmarks. Check out the PubMedBert paper to understand how one reaches that conclusion. As a bonus, try repeating the following section using [BlueBERT](https://huggingface.co/bionlp/bluebert_pubmed_uncased_L-24_H-1024_A-16))."
      ],
      "metadata": {
        "id": "Q--JVwkMzqC6"
      }
    },
    {
      "cell_type": "code",
      "source": [
        "#huggingface name for the model\n",
        "model_name = \"microsoft/BiomedNLP-BiomedBERT-base-uncased-abstract\""
      ],
      "metadata": {
        "id": "XcrxsbOixdf5"
      },
      "execution_count": null,
      "outputs": []
    },
    {
      "cell_type": "markdown",
      "source": [
        "The first step in using BERT for down-stream tasks is to tokenize the text the way BERT expects. The tokenizer takes a piece of text and transforms it into indices - indices in a fixed vocabulary. During pre-training, the tokenizer learns which words are most important, and puts them in its vocabulary (read more about that [here](https://albertauyeung.github.io/2020/06/19/bert-tokenization.html/)). The pre-trained tokenizer thusly first returns a list of indices when given an input string.\n",
        "\n",
        "In order to use our GPUs most efficiently, it is often useful to process multiple pieces of text in parallel (in batches). Therefore, we need each item in the batch to be the same length; therefore, we must set a maximum number of tokens for our tokenizer. That way, if there are any too long texts, it cuts them off; texts that are too short are padded with filler. In order to tell BERT which tokens are filler padding, the tokenizer also returns a list of ones and zeros, indicating which items in the list are padding. In practice, the maximum document length should not be arbitrarily large, in order not to pass too much filler to the GPU, but not too small, in order not to lop off important tokens!"
      ],
      "metadata": {
        "id": "SjmCmLtE0TYN"
      }
    },
    {
      "cell_type": "code",
      "source": [
        "# Load tokenizer directly\n",
        "from transformers import AutoTokenizer\n",
        "tokenizer = AutoTokenizer.from_pretrained(model_name, )\n",
        "\n",
        "MAX_LEN=128 #a typical value for short documents like abstracts\n",
        "\n",
        "tokenizer([\"My name is Pierre\",\n",
        "           \"Hello hello hello Hello hello hello hello.\"],\n",
        "          truncation=True,\n",
        "          padding='max_length',\n",
        "          max_length=MAX_LEN)\n",
        "#note the zeros in the \"attention_mask\"; these correspond to padding!"
      ],
      "metadata": {
        "id": "x5iLGDksxbvJ",
        "colab": {
          "base_uri": "https://localhost:8080/",
          "height": 391,
          "referenced_widgets": [
            "d9c9657067704758a92ec396dfc2d6ce",
            "8e90c73522424c529b3df27729c79ed8",
            "075ed345ab234ade890e897eb8f29c5d",
            "66bb9a492b804710b00f44fbc8dd7e74",
            "80a4e733a17d4faaa7e18a1ee391054b",
            "9edb2451fde84820898a91008526d7d1",
            "a8cba227d04f4d6a8a96adc0abed33e8",
            "99e23717b4ac428e879b2f3949786cf4",
            "399b5d6f8af14ce391c6a0bdd4e7febc",
            "788d942d531745e597317c609deda29b",
            "ff397b077f3446c2b86df74095e2e7ce",
            "63aa81a330654a19be7002ac288a07d2",
            "8aca039153d04ac299428d9aea53f92c",
            "54391cb299bf4cf18a98319039ca105a",
            "b9b3d6e2c1c14488a1800e12a610f39e",
            "c66355121dfe4c6ba8ab94ccb2c153e9",
            "29ae36b9bf824cb4839f6d91c76c81f1",
            "e2feb70e91064b7b8e4667ac31b85a71",
            "bf787ae187b043ce8728aa989a39e144",
            "3584f20072464901b6205ff5f3eb69be",
            "af966827ecd24af397719b5d0362dc69",
            "81900c4273f44aba8833f86ad9a6b8d3",
            "29d44796a8e34e8f93d0dda5ae27a5eb",
            "028589a5233c4355a695a7794dbb9566",
            "a425b6c8f8f54d1b9d61a8e255fcd36b",
            "5192f8d3f83c4699a32716b3997cae09",
            "3d670446645d47bd876ff0fa55c747b4",
            "f62e216d7ce74076ad314760a77b9ae9",
            "837ef942ea994436b5cb9ca26c08b3ca",
            "37c41b34bc0b411d845fef44bec844ee",
            "bc9469369a094d328df30ddac130da7c",
            "617dd43d902948069c611a9bbd7342b3",
            "4e442fe4357443788eac3204c9a979e0"
          ]
        },
        "outputId": "53a473d9-c8f2-455f-bb6d-977e1c158ded"
      },
      "execution_count": null,
      "outputs": [
        {
          "output_type": "display_data",
          "data": {
            "text/plain": [
              "tokenizer_config.json:   0%|          | 0.00/28.0 [00:00<?, ?B/s]"
            ],
            "application/vnd.jupyter.widget-view+json": {
              "version_major": 2,
              "version_minor": 0,
              "model_id": "d9c9657067704758a92ec396dfc2d6ce"
            }
          },
          "metadata": {}
        },
        {
          "output_type": "display_data",
          "data": {
            "text/plain": [
              "config.json:   0%|          | 0.00/385 [00:00<?, ?B/s]"
            ],
            "application/vnd.jupyter.widget-view+json": {
              "version_major": 2,
              "version_minor": 0,
              "model_id": "63aa81a330654a19be7002ac288a07d2"
            }
          },
          "metadata": {}
        },
        {
          "output_type": "display_data",
          "data": {
            "text/plain": [
              "vocab.txt:   0%|          | 0.00/225k [00:00<?, ?B/s]"
            ],
            "application/vnd.jupyter.widget-view+json": {
              "version_major": 2,
              "version_minor": 0,
              "model_id": "29d44796a8e34e8f93d0dda5ae27a5eb"
            }
          },
          "metadata": {}
        },
        {
          "output_type": "execute_result",
          "data": {
            "text/plain": [
              "{'input_ids': [[2, 2493, 10474, 1744, 17410, 1027, 1698, 3, 0, 0, 0, 0, 0, 0, 0, 0, 0, 0, 0, 0, 0, 0, 0, 0, 0, 0, 0, 0, 0, 0, 0, 0, 0, 0, 0, 0, 0, 0, 0, 0, 0, 0, 0, 0, 0, 0, 0, 0, 0, 0, 0, 0, 0, 0, 0, 0, 0, 0, 0, 0, 0, 0, 0, 0, 0, 0, 0, 0, 0, 0, 0, 0, 0, 0, 0, 0, 0, 0, 0, 0, 0, 0, 0, 0, 0, 0, 0, 0, 0, 0, 0, 0, 0, 0, 0, 0, 0, 0, 0, 0, 0, 0, 0, 0, 0, 0, 0, 0, 0, 0, 0, 0, 0, 0, 0, 0, 0, 0, 0, 0, 0, 0, 0, 0, 0, 0, 0, 0], [2, 3018, 5368, 3018, 5368, 3018, 5368, 3018, 5368, 3018, 5368, 3018, 5368, 3018, 5368, 17, 3, 0, 0, 0, 0, 0, 0, 0, 0, 0, 0, 0, 0, 0, 0, 0, 0, 0, 0, 0, 0, 0, 0, 0, 0, 0, 0, 0, 0, 0, 0, 0, 0, 0, 0, 0, 0, 0, 0, 0, 0, 0, 0, 0, 0, 0, 0, 0, 0, 0, 0, 0, 0, 0, 0, 0, 0, 0, 0, 0, 0, 0, 0, 0, 0, 0, 0, 0, 0, 0, 0, 0, 0, 0, 0, 0, 0, 0, 0, 0, 0, 0, 0, 0, 0, 0, 0, 0, 0, 0, 0, 0, 0, 0, 0, 0, 0, 0, 0, 0, 0, 0, 0, 0, 0, 0, 0, 0, 0, 0, 0, 0]], 'token_type_ids': [[0, 0, 0, 0, 0, 0, 0, 0, 0, 0, 0, 0, 0, 0, 0, 0, 0, 0, 0, 0, 0, 0, 0, 0, 0, 0, 0, 0, 0, 0, 0, 0, 0, 0, 0, 0, 0, 0, 0, 0, 0, 0, 0, 0, 0, 0, 0, 0, 0, 0, 0, 0, 0, 0, 0, 0, 0, 0, 0, 0, 0, 0, 0, 0, 0, 0, 0, 0, 0, 0, 0, 0, 0, 0, 0, 0, 0, 0, 0, 0, 0, 0, 0, 0, 0, 0, 0, 0, 0, 0, 0, 0, 0, 0, 0, 0, 0, 0, 0, 0, 0, 0, 0, 0, 0, 0, 0, 0, 0, 0, 0, 0, 0, 0, 0, 0, 0, 0, 0, 0, 0, 0, 0, 0, 0, 0, 0, 0], [0, 0, 0, 0, 0, 0, 0, 0, 0, 0, 0, 0, 0, 0, 0, 0, 0, 0, 0, 0, 0, 0, 0, 0, 0, 0, 0, 0, 0, 0, 0, 0, 0, 0, 0, 0, 0, 0, 0, 0, 0, 0, 0, 0, 0, 0, 0, 0, 0, 0, 0, 0, 0, 0, 0, 0, 0, 0, 0, 0, 0, 0, 0, 0, 0, 0, 0, 0, 0, 0, 0, 0, 0, 0, 0, 0, 0, 0, 0, 0, 0, 0, 0, 0, 0, 0, 0, 0, 0, 0, 0, 0, 0, 0, 0, 0, 0, 0, 0, 0, 0, 0, 0, 0, 0, 0, 0, 0, 0, 0, 0, 0, 0, 0, 0, 0, 0, 0, 0, 0, 0, 0, 0, 0, 0, 0, 0, 0]], 'attention_mask': [[1, 1, 1, 1, 1, 1, 1, 1, 0, 0, 0, 0, 0, 0, 0, 0, 0, 0, 0, 0, 0, 0, 0, 0, 0, 0, 0, 0, 0, 0, 0, 0, 0, 0, 0, 0, 0, 0, 0, 0, 0, 0, 0, 0, 0, 0, 0, 0, 0, 0, 0, 0, 0, 0, 0, 0, 0, 0, 0, 0, 0, 0, 0, 0, 0, 0, 0, 0, 0, 0, 0, 0, 0, 0, 0, 0, 0, 0, 0, 0, 0, 0, 0, 0, 0, 0, 0, 0, 0, 0, 0, 0, 0, 0, 0, 0, 0, 0, 0, 0, 0, 0, 0, 0, 0, 0, 0, 0, 0, 0, 0, 0, 0, 0, 0, 0, 0, 0, 0, 0, 0, 0, 0, 0, 0, 0, 0, 0], [1, 1, 1, 1, 1, 1, 1, 1, 1, 1, 1, 1, 1, 1, 1, 1, 1, 0, 0, 0, 0, 0, 0, 0, 0, 0, 0, 0, 0, 0, 0, 0, 0, 0, 0, 0, 0, 0, 0, 0, 0, 0, 0, 0, 0, 0, 0, 0, 0, 0, 0, 0, 0, 0, 0, 0, 0, 0, 0, 0, 0, 0, 0, 0, 0, 0, 0, 0, 0, 0, 0, 0, 0, 0, 0, 0, 0, 0, 0, 0, 0, 0, 0, 0, 0, 0, 0, 0, 0, 0, 0, 0, 0, 0, 0, 0, 0, 0, 0, 0, 0, 0, 0, 0, 0, 0, 0, 0, 0, 0, 0, 0, 0, 0, 0, 0, 0, 0, 0, 0, 0, 0, 0, 0, 0, 0, 0, 0]]}"
            ]
          },
          "metadata": {},
          "execution_count": 34
        }
      ]
    },
    {
      "cell_type": "markdown",
      "source": [
        "We can tokenize an entire corpus:"
      ],
      "metadata": {
        "id": "MNHpgHi53K92"
      }
    },
    {
      "cell_type": "code",
      "source": [
        "def do_tokenisation(texts, max_length):\n",
        "    if not texts:  # Check if texts is empty\n",
        "        return None\n",
        "\n",
        "    tokeniser_output = tokenizer(\n",
        "        texts,\n",
        "        padding='max_length',  # pad shorter sequences to max_length\n",
        "        truncation=True,  # truncate longer sequences to max_length\n",
        "        max_length=max_length\n",
        "    )\n",
        "\n",
        "    for encoding in tokeniser_output:\n",
        "        tokeniser_output[encoding] = torch.tensor(tokeniser_output[encoding])\n",
        "\n",
        "    return tokeniser_output\n",
        "\n",
        "train_tokeniser_output = do_tokenisation(df[df.Split == \"Train\"].Abstract_Cleaned.tolist(), MAX_LEN)\n",
        "valid_tokeniser_output = do_tokenisation(df[df.Split == \"Valid\"].Abstract_Cleaned.tolist(), MAX_LEN)\n",
        "test_tokeniser_output = do_tokenisation(df[df.Split == \"Test\"].Abstract_Cleaned.tolist(), MAX_LEN)"
      ],
      "metadata": {
        "id": "yJ2_rt9KFPAO"
      },
      "execution_count": null,
      "outputs": []
    },
    {
      "cell_type": "markdown",
      "source": [
        "Let's have a look at an example of the encodings produced by the tokenizer."
      ],
      "metadata": {
        "id": "xQiNot6L35C1"
      }
    },
    {
      "cell_type": "code",
      "source": [
        "batch_idx = 5\n",
        "original_sentence = df.Abstract_Cleaned[batch_idx]\n",
        "print(f'Input sentence:\\n{original_sentence}\\n')\n",
        "tokens = train_tokeniser_output.tokens(batch_idx)\n",
        "print(f'Tokens:\\n{tokens}\\n')\n",
        "input_ids = train_tokeniser_output['input_ids'][batch_idx]\n",
        "print(f'Input IDs:\\n{input_ids}\\n')\n",
        "attention_mask = train_tokeniser_output['attention_mask'][batch_idx]\n",
        "print(f'Attention Mask:\\n{attention_mask}\\n')"
      ],
      "metadata": {
        "id": "FzkLERWw35m2",
        "colab": {
          "base_uri": "https://localhost:8080/"
        },
        "outputId": "b581fdd1-bb44-4e9a-c821-59512f03d06b"
      },
      "execution_count": null,
      "outputs": [
        {
          "output_type": "stream",
          "name": "stdout",
          "text": [
            "Input sentence:\n",
            "U S government project bet big intranasal vaccine monoclonal antibody omit ambitious approach \n",
            "\n",
            "Tokens:\n",
            "['[CLS]', 'current', 'vaccine', 'tailor', 'combat', 'future', 'sars', 'cov', 'variant', '[SEP]', '[PAD]', '[PAD]', '[PAD]', '[PAD]', '[PAD]', '[PAD]', '[PAD]', '[PAD]', '[PAD]', '[PAD]', '[PAD]', '[PAD]', '[PAD]', '[PAD]', '[PAD]', '[PAD]', '[PAD]', '[PAD]', '[PAD]', '[PAD]', '[PAD]', '[PAD]', '[PAD]', '[PAD]', '[PAD]', '[PAD]', '[PAD]', '[PAD]', '[PAD]', '[PAD]', '[PAD]', '[PAD]', '[PAD]', '[PAD]', '[PAD]', '[PAD]', '[PAD]', '[PAD]', '[PAD]', '[PAD]', '[PAD]', '[PAD]', '[PAD]', '[PAD]', '[PAD]', '[PAD]', '[PAD]', '[PAD]', '[PAD]', '[PAD]', '[PAD]', '[PAD]', '[PAD]', '[PAD]', '[PAD]', '[PAD]', '[PAD]', '[PAD]', '[PAD]', '[PAD]', '[PAD]', '[PAD]', '[PAD]', '[PAD]', '[PAD]', '[PAD]', '[PAD]', '[PAD]', '[PAD]', '[PAD]', '[PAD]', '[PAD]', '[PAD]', '[PAD]', '[PAD]', '[PAD]', '[PAD]', '[PAD]', '[PAD]', '[PAD]', '[PAD]', '[PAD]', '[PAD]', '[PAD]', '[PAD]', '[PAD]', '[PAD]', '[PAD]', '[PAD]', '[PAD]', '[PAD]', '[PAD]', '[PAD]', '[PAD]', '[PAD]', '[PAD]', '[PAD]', '[PAD]', '[PAD]', '[PAD]', '[PAD]', '[PAD]', '[PAD]', '[PAD]', '[PAD]', '[PAD]', '[PAD]', '[PAD]', '[PAD]', '[PAD]', '[PAD]', '[PAD]', '[PAD]', '[PAD]', '[PAD]', '[PAD]', '[PAD]', '[PAD]']\n",
            "\n",
            "Input IDs:\n",
            "tensor([    2,  3040,  5275, 24857, 16288,  3886, 20397,  8550,  6903,     3,\n",
            "            0,     0,     0,     0,     0,     0,     0,     0,     0,     0,\n",
            "            0,     0,     0,     0,     0,     0,     0,     0,     0,     0,\n",
            "            0,     0,     0,     0,     0,     0,     0,     0,     0,     0,\n",
            "            0,     0,     0,     0,     0,     0,     0,     0,     0,     0,\n",
            "            0,     0,     0,     0,     0,     0,     0,     0,     0,     0,\n",
            "            0,     0,     0,     0,     0,     0,     0,     0,     0,     0,\n",
            "            0,     0,     0,     0,     0,     0,     0,     0,     0,     0,\n",
            "            0,     0,     0,     0,     0,     0,     0,     0,     0,     0,\n",
            "            0,     0,     0,     0,     0,     0,     0,     0,     0,     0,\n",
            "            0,     0,     0,     0,     0,     0,     0,     0,     0,     0,\n",
            "            0,     0,     0,     0,     0,     0,     0,     0,     0,     0,\n",
            "            0,     0,     0,     0,     0,     0,     0,     0])\n",
            "\n",
            "Attention Mask:\n",
            "tensor([1, 1, 1, 1, 1, 1, 1, 1, 1, 1, 0, 0, 0, 0, 0, 0, 0, 0, 0, 0, 0, 0, 0, 0,\n",
            "        0, 0, 0, 0, 0, 0, 0, 0, 0, 0, 0, 0, 0, 0, 0, 0, 0, 0, 0, 0, 0, 0, 0, 0,\n",
            "        0, 0, 0, 0, 0, 0, 0, 0, 0, 0, 0, 0, 0, 0, 0, 0, 0, 0, 0, 0, 0, 0, 0, 0,\n",
            "        0, 0, 0, 0, 0, 0, 0, 0, 0, 0, 0, 0, 0, 0, 0, 0, 0, 0, 0, 0, 0, 0, 0, 0,\n",
            "        0, 0, 0, 0, 0, 0, 0, 0, 0, 0, 0, 0, 0, 0, 0, 0, 0, 0, 0, 0, 0, 0, 0, 0,\n",
            "        0, 0, 0, 0, 0, 0, 0, 0])\n",
            "\n"
          ]
        }
      ]
    },
    {
      "cell_type": "markdown",
      "source": [
        "**Question**: Which are the special tokens introduced by the tokenizer, and what do they represent?\n",
        "\n",
        "**Answer**:\n",
        "\n",
        "Special Tokens:\n",
        "\n",
        "[CLS]: This token stands for \"classification\" and is added at the beginning of each sequence.\n",
        "[SEP]: This token separates sentences or different parts of the input sequence. It indicates the end of a sequence.\n",
        "\n",
        "**Question**: Why do some tokens start with ##?\n",
        "\n",
        "**ANSWER**:\n",
        "\n",
        "Tokens starting with ## are subwords. BERT tokenizes words into subwords when needed, especially for long or rare words. When a word is split into subwords, the subwords are prefixed with ## to indicate that they are part of the same original word.\n",
        "\n",
        "**Question**: What is the smallest possible value for MAX_LEN that doesn't cut off any tokens in our corpus? Set MAX_LEN to that value!\n",
        "\n",
        "**ANSWER**:\n",
        "\n",
        "The smallest possible value for MAX_LEN that doesn't cut off any tokens in the corpus is the length of the longest sequence in the dataset. This can be found by examining the lengths of all tokenized sequences and selecting the maximum length."
      ],
      "metadata": {
        "id": "Xqvs0G2e4ZKi"
      }
    },
    {
      "cell_type": "code",
      "source": [
        "max_len_corpus = max(len(tokenizer.encode(text)) for text in df['Abstract_Cleaned'])\n",
        "print(\"Maximum length in the corpus:\", max_len_corpus)\n"
      ],
      "metadata": {
        "colab": {
          "base_uri": "https://localhost:8080/"
        },
        "id": "KdkkRc9YHT7S",
        "outputId": "1353170f-1b36-4c72-b696-528dabbe505a"
      },
      "execution_count": null,
      "outputs": [
        {
          "output_type": "stream",
          "name": "stdout",
          "text": [
            "Maximum length in the corpus: 153\n"
          ]
        }
      ]
    },
    {
      "cell_type": "markdown",
      "source": [
        "## Language Model\n",
        "\n",
        "In this section we will use the Hugging Face API to load the pre-trained weights of a transformer language model for inference."
      ],
      "metadata": {
        "id": "gsAX8p_74HxP"
      }
    },
    {
      "cell_type": "code",
      "source": [
        "from transformers import AutoConfig, AutoModelForSequenceClassification\n",
        "#AutoModelForSequenceClassification is an API that appends a linear classifer layer to\n",
        "#the classifier token of a BERT network. Alternately, one can do this onseself in torch\n",
        "#by creating a new class."
      ],
      "metadata": {
        "id": "tWiOdWCT5BYu"
      },
      "execution_count": null,
      "outputs": []
    },
    {
      "cell_type": "markdown",
      "source": [
        "The ``config`` attribute contains hyperparameter values including vocabulary size, dropout probabilities, and architectural specifications; feel free to inspect them and try to understand what they mean and how they relate to the course material."
      ],
      "metadata": {
        "id": "xOGCCwl75IFv"
      }
    },
    {
      "cell_type": "code",
      "source": [
        "model_config = AutoConfig.from_pretrained(model_name)\n",
        "print(model_config)"
      ],
      "metadata": {
        "id": "bUQYZGGu5EW5",
        "colab": {
          "base_uri": "https://localhost:8080/"
        },
        "outputId": "dc648adc-352a-46bf-b6f9-e789273c6b99"
      },
      "execution_count": null,
      "outputs": [
        {
          "output_type": "stream",
          "name": "stdout",
          "text": [
            "BertConfig {\n",
            "  \"_name_or_path\": \"microsoft/BiomedNLP-BiomedBERT-base-uncased-abstract\",\n",
            "  \"architectures\": [\n",
            "    \"BertForMaskedLM\"\n",
            "  ],\n",
            "  \"attention_probs_dropout_prob\": 0.1,\n",
            "  \"classifier_dropout\": null,\n",
            "  \"hidden_act\": \"gelu\",\n",
            "  \"hidden_dropout_prob\": 0.1,\n",
            "  \"hidden_size\": 768,\n",
            "  \"initializer_range\": 0.02,\n",
            "  \"intermediate_size\": 3072,\n",
            "  \"layer_norm_eps\": 1e-12,\n",
            "  \"max_position_embeddings\": 512,\n",
            "  \"model_type\": \"bert\",\n",
            "  \"num_attention_heads\": 12,\n",
            "  \"num_hidden_layers\": 12,\n",
            "  \"pad_token_id\": 0,\n",
            "  \"position_embedding_type\": \"absolute\",\n",
            "  \"transformers_version\": \"4.35.2\",\n",
            "  \"type_vocab_size\": 2,\n",
            "  \"use_cache\": true,\n",
            "  \"vocab_size\": 30522\n",
            "}\n",
            "\n"
          ]
        }
      ]
    },
    {
      "cell_type": "markdown",
      "source": [
        "By default, the output size of the classification layer (corresponding to the number of different classes we want to identify) is 2. However, we have four years to classify, so we have a 4-class classification problem. This means we need to tell the model to expect 4 different class labels and adjust its output size accordingly. We do this by setting the `num_labels` configuration parameter."
      ],
      "metadata": {
        "id": "wxKxqVTw5CtP"
      }
    },
    {
      "cell_type": "code",
      "source": [
        "model_config.num_labels = 4"
      ],
      "metadata": {
        "id": "yaauq_Lj5Yvu"
      },
      "execution_count": null,
      "outputs": []
    },
    {
      "cell_type": "markdown",
      "source": [
        "The ``model`` object we use here is an instantiation of the pre-trained PubMedBert model with an extra classification layer added."
      ],
      "metadata": {
        "id": "WaT1x5VV5b78"
      }
    },
    {
      "cell_type": "code",
      "source": [
        "model = AutoModelForSequenceClassification.from_config(model_config)"
      ],
      "metadata": {
        "id": "DK3Zqjpo5iHl"
      },
      "execution_count": null,
      "outputs": []
    },
    {
      "cell_type": "markdown",
      "source": [
        "### Optimiser\n",
        "Neural networks require an optimisation strategy to implement backpropagation. We will use the [Adam](https://arxiv.org/pdf/1412.6980.pdf) algorithm, a widely-used method for transformer architectures."
      ],
      "metadata": {
        "id": "xEwD8s3u5qgG"
      }
    },
    {
      "cell_type": "code",
      "source": [
        "from transformers import AdamW"
      ],
      "metadata": {
        "id": "OVhlrRBc5t_T"
      },
      "execution_count": null,
      "outputs": []
    },
    {
      "cell_type": "markdown",
      "source": [
        "At this point in the implementation, we choose the learning rate to use in backpropagation: a parameter that controls the step sizes taken across the loss landscape by the optimiser at each step of training. This is a hyperparameter that has no _a priori_ optimal value; you can play around with the value to see how it affects the performance of our classifier."
      ],
      "metadata": {
        "id": "n-iUiUwm5wPg"
      }
    },
    {
      "cell_type": "code",
      "source": [
        "# the constructor function requires the parameters of the language model and the learning rate as input\n",
        "optimizer = AdamW(tuple(model.parameters()), lr=2e-5)"
      ],
      "metadata": {
        "id": "9Hh2ZcQG50Uv",
        "colab": {
          "base_uri": "https://localhost:8080/"
        },
        "outputId": "9df616c3-d8f8-407f-bb73-65062bc7a1a8"
      },
      "execution_count": null,
      "outputs": [
        {
          "output_type": "stream",
          "name": "stderr",
          "text": [
            "/usr/local/lib/python3.10/dist-packages/transformers/optimization.py:411: FutureWarning: This implementation of AdamW is deprecated and will be removed in a future version. Use the PyTorch implementation torch.optim.AdamW instead, or set `no_deprecation_warning=True` to disable this warning\n",
            "  warnings.warn(\n"
          ]
        }
      ]
    },
    {
      "cell_type": "markdown",
      "source": [
        "### Custom Datasets & Data Loaders\n",
        "For efficiency, we will use the Pytorch ``DataLoader`` object to pass the tokens to the model."
      ],
      "metadata": {
        "id": "7ndi2CJ454r0"
      }
    },
    {
      "cell_type": "code",
      "source": [
        "from torch.utils.data import Dataset, DataLoader"
      ],
      "metadata": {
        "id": "BmCaLuio53XE"
      },
      "execution_count": null,
      "outputs": []
    },
    {
      "cell_type": "markdown",
      "source": [
        "For most Pytorch projects, you will need to define a custom dataset class that subclasses the built-in one."
      ],
      "metadata": {
        "id": "IReGwakO597v"
      }
    },
    {
      "cell_type": "code",
      "source": [
        "# here we define a simple subclass of the Pytorch Dataset object: the DataLoader by default will access the amount\n",
        "# of data points stored by instances of this subclass, as well as indexing it, so we have to overwrite the __len__\n",
        "# and __getitem__ methods to make sure it will behave as we would like\n",
        "\n",
        "class ClassificationDataset(Dataset):\n",
        "    def __init__(self, df, split):\n",
        "        super().__init__()\n",
        "        self.df = df[df.Split==split]\n",
        "        self.tokeniser_output = do_tokenisation(self.df.Abstract_Cleaned.tolist(), MAX_LEN)\n",
        "        self.labels = self.df.Year.values-2020\n",
        "\n",
        "    def __len__(self):\n",
        "        return len(self.df)\n",
        "\n",
        "    def __getitem__(self, idx: int):\n",
        "        input_ids, att_mask = self.tokeniser_output[\"input_ids\"][idx], self.tokeniser_output[\"attention_mask\"][idx]\n",
        "        label = self.labels[idx]\n",
        "        return (input_ids, att_mask, label)\n",
        "\n",
        "train_dataset = ClassificationDataset(df,\"Train\")\n",
        "valid_dataset = ClassificationDataset(df,\"Valid\")"
      ],
      "metadata": {
        "id": "vtVZCuiu6Aat"
      },
      "execution_count": null,
      "outputs": []
    },
    {
      "cell_type": "markdown",
      "source": [
        "At this point we select another hyperparameter, the _batch size_, i.e. the number of sentences to process at each training step. A higher batch size will result in more effective backpropagation steps, as the model will have \"seen\" more training examples before calculating the adjustment to make to its parameters, but a lower batch size will result in more efficient training as not as many examples need to be loaded into memory at once."
      ],
      "metadata": {
        "id": "ieB_Sj8n7L0i"
      }
    },
    {
      "cell_type": "code",
      "source": [
        "BATCH_SIZE = 4\n",
        "\n",
        "train_dataloader = DataLoader(train_dataset, batch_size=BATCH_SIZE)\n",
        "valid_dataloader = DataLoader(valid_dataset, batch_size=BATCH_SIZE)"
      ],
      "metadata": {
        "id": "SOx4fdqp8-uj"
      },
      "execution_count": null,
      "outputs": []
    },
    {
      "cell_type": "markdown",
      "source": [
        "## Training a Classifier\n",
        "To fine-tune the PubMedBert word embeddings for our document classification task, we use the ``[CLS]`` token from the final layer of the transformer neural network to predict the relevant class for each sentence. To output class probabilities based on the word embedding vectors, a linear prediction layer is stacked on top of the transformer network, which will learn weight parameters $w$ that correspond to the optimal transformation of the ``[CLS]`` vector into a vector of scores for each class in the output space (usually called _logits_). To generate class probabilities from the logit vector, the [softmax function](https://en.wikipedia.org/wiki/Softmax_function) is applied:\n",
        "\n",
        "$$\n",
        "\\phi_w:\\mathbb{R}^{d_{\\text{EMB}}}\\rightarrow\\mathbb{R}^{d_{\\text{CLASS}}} \\\\\n",
        "\\text{Classifier}\\left(x_{\\text{CLS}}\\right)=\\text{softmax}\\left(\\phi_w\\left(x_{\\text{CLS}}\\right)\\right)\n",
        "$$\n",
        "\n",
        "For the model we use in this tutorial, we have embedding dimension $d_{\\text{EMB}}=768$ and because we have ten hallmarks of cancer plus the absence of a hallmark, we have output dimension $d_{\\text{CLASS}}=4$.\n",
        "\n",
        "To predict a single class, however, we just need to pick out the dimension of the logit vector with the highest score:\n",
        "\n",
        "$$\\text{Predicted Class}=\\text{argmax}\\left(\\phi\\left(x_{\\text{CLS}}\\right)\\right)$$\n",
        "\n",
        "### Using GPUs\n",
        "Graphical Processing Units (GPUs) are optimised for very fast parallel matrix calculations and are thus widely used for training neural networks. In practice, for models of the scale of BERT, GPUs are necessary to be able to perform experiments in reasonable timeframes (although pre-training still often requires several days of runtime on multiple GPUs).\n",
        "\n",
        "In order to use ther GPU, we have to explicitly tell torch to move our data onto the GPU for faster calculation. Make sure that all the data that the GPU requires is passed correctly - a common bug in writing PyTorch code is to have some data (say the labels) on the CPU and other (say the model) on the GPU - this is incompatible. We tell torch to move the model onto the GPU for quicker calculation:"
      ],
      "metadata": {
        "id": "Efc0UC7r7NQe"
      }
    },
    {
      "cell_type": "code",
      "source": [
        "model.to(device)\n",
        "#this is what our BERT model looks like! Note the linear classifier layer on the end."
      ],
      "metadata": {
        "id": "BFWAyhZ-tEDR",
        "colab": {
          "base_uri": "https://localhost:8080/"
        },
        "outputId": "a8e46a6e-b9c9-4c12-b2a0-564a13d1ab54"
      },
      "execution_count": null,
      "outputs": [
        {
          "output_type": "execute_result",
          "data": {
            "text/plain": [
              "BertForSequenceClassification(\n",
              "  (bert): BertModel(\n",
              "    (embeddings): BertEmbeddings(\n",
              "      (word_embeddings): Embedding(30522, 768, padding_idx=0)\n",
              "      (position_embeddings): Embedding(512, 768)\n",
              "      (token_type_embeddings): Embedding(2, 768)\n",
              "      (LayerNorm): LayerNorm((768,), eps=1e-12, elementwise_affine=True)\n",
              "      (dropout): Dropout(p=0.1, inplace=False)\n",
              "    )\n",
              "    (encoder): BertEncoder(\n",
              "      (layer): ModuleList(\n",
              "        (0-11): 12 x BertLayer(\n",
              "          (attention): BertAttention(\n",
              "            (self): BertSelfAttention(\n",
              "              (query): Linear(in_features=768, out_features=768, bias=True)\n",
              "              (key): Linear(in_features=768, out_features=768, bias=True)\n",
              "              (value): Linear(in_features=768, out_features=768, bias=True)\n",
              "              (dropout): Dropout(p=0.1, inplace=False)\n",
              "            )\n",
              "            (output): BertSelfOutput(\n",
              "              (dense): Linear(in_features=768, out_features=768, bias=True)\n",
              "              (LayerNorm): LayerNorm((768,), eps=1e-12, elementwise_affine=True)\n",
              "              (dropout): Dropout(p=0.1, inplace=False)\n",
              "            )\n",
              "          )\n",
              "          (intermediate): BertIntermediate(\n",
              "            (dense): Linear(in_features=768, out_features=3072, bias=True)\n",
              "            (intermediate_act_fn): GELUActivation()\n",
              "          )\n",
              "          (output): BertOutput(\n",
              "            (dense): Linear(in_features=3072, out_features=768, bias=True)\n",
              "            (LayerNorm): LayerNorm((768,), eps=1e-12, elementwise_affine=True)\n",
              "            (dropout): Dropout(p=0.1, inplace=False)\n",
              "          )\n",
              "        )\n",
              "      )\n",
              "    )\n",
              "    (pooler): BertPooler(\n",
              "      (dense): Linear(in_features=768, out_features=768, bias=True)\n",
              "      (activation): Tanh()\n",
              "    )\n",
              "  )\n",
              "  (dropout): Dropout(p=0.1, inplace=False)\n",
              "  (classifier): Linear(in_features=768, out_features=4, bias=True)\n",
              ")"
            ]
          },
          "metadata": {},
          "execution_count": 47
        }
      ]
    },
    {
      "cell_type": "markdown",
      "source": [
        "The last important aspect to define is how we will teach this model. We perform gradient descent after each batch - i.e., we tell the model how to change its weights in order to minimize the loss for that batch. However, to do this, we must explicitly define the loss. For classification tasks, a popular choice is the cross-entropy loss:\n",
        "\n",
        "$$\\text{Loss}_{ce}=-\\sum\\limits_{c = 1..C}\\ell_c\\log(p_c)$$\n",
        "\n",
        "Where $\\ell_c$ is the gold value for class $c$, and $p_c$ the prediction for class $c$: $p_c = \\text{softmax}\\left(\\phi_w\\left(x\\right)\\right)$."
      ],
      "metadata": {
        "id": "JLhG7Znp-EiF"
      }
    },
    {
      "cell_type": "markdown",
      "source": [
        "**Question**: $\\ell_c\\log(p_c) = c'$ for all but one $c' \\in [1..C]$. What is $c'$, and why is this true?\n",
        "\n",
        "**ANSWER**:\n",
        "\n",
        "The value \\( c' \\) in the expression \\( \\ell_c \\log(p_c) = c' \\) corresponds to the index of the correct or gold class. In the context of the cross-entropy loss for classification tasks, the expression \\( \\ell_c \\log(p_c) \\) represents the negative log-likelihood of the true class.\n",
        "\n",
        "Here's why \\( c' \\) is true:\n",
        "\n",
        "1. \\( \\ell_c \\) is a one-hot encoded vector representing the true class. It has a value of 1 for the true class and 0 for all other classes.\n",
        "\n",
        "2. \\( p_c \\) is the predicted probability for class \\( c \\) after applying the softmax function to the logits \\( \\phi_w(x) \\).\n",
        "\n",
        "3. In the one-hot encoded vector \\( \\ell_c \\), there is only one non-zero element (1) corresponding to the true class. Let's call this element \\( \\ell_{c'} \\), where \\( c' \\) is the index of the true class.\n",
        "\n",
        "4. For the true class (\\( c = c' \\)), \\( \\ell_c \\) is 1, and \\( \\log(p_c) \\) becomes \\( \\log(p_{c'}) \\). For all other classes (\\( c \\neq c' \\)), \\( \\ell_c \\) is 0, and \\( \\log(p_c) \\) becomes \\( \\log(p_c) \\) for those classes.\n",
        "\n",
        "5. Therefore, the only non-zero term in the summation \\( -\\sum_{c=1}^{C} \\ell_c \\log(p_c) \\) is \\( -\\ell_{c'} \\log(p_{c'}) \\), where \\( c' \\) is the index of the true class.\n",
        "\n",
        "In summary, \\( c' \\) is the index of the correct (true) class, and this expression ensures that the loss penalizes the model more when its prediction diverges from the true class, in accordance with the negative log-likelihood."
      ],
      "metadata": {
        "id": "-4QZiHauGXtf"
      }
    },
    {
      "cell_type": "markdown",
      "source": [
        "Now, we are (finally) ready to start training our classifier. The first thing to do is to decide how many epochs (full passes over the dataset) we would like to use. For fine-tuning BERT models, we usually consider that the model pre-training has already instilled it with a lot of the knowledge necessary to carry out the task, so we train for relatively few (2-5) epochs, but this heuristic does not necessarily apply to all problems and for many domain-specific tasks (such as this one) it may be beneficial to increase this hyperparameter. In particular, given the relative paucity of data, we train initially for 20 epochs."
      ],
      "metadata": {
        "id": "Nf0P5qN779wQ"
      }
    },
    {
      "cell_type": "code",
      "source": [
        "N_EPOCHS = 20\n",
        "\n",
        "# progress bar for batches\n",
        "from tqdm import tqdm"
      ],
      "metadata": {
        "id": "jhMS67oC7n-n"
      },
      "execution_count": null,
      "outputs": []
    },
    {
      "cell_type": "code",
      "source": [
        "criterion = torch.nn.CrossEntropyLoss()\n",
        "\n",
        "def train_model(model=None):\n",
        "    total_train_f1 = []\n",
        "    total_valid_f1 = []\n",
        "    total_train_loss = []\n",
        "    total_valid_loss = []\n",
        "\n",
        "    # reset the model if you run this cell more than once!\n",
        "    if model is None:\n",
        "        model = AutoModelForSequenceClassification.from_config(model_config).to(device)\n",
        "    optimizer = AdamW(tuple(model.parameters()), lr=2e-5)\n",
        "\n",
        "    for epoch in range(N_EPOCHS):\n",
        "        model.train()\n",
        "        train_f1 = []\n",
        "        train_loss = []\n",
        "        valid_f1 = []\n",
        "        valid_loss = []\n",
        "        print(f'Epoch {epoch}, training...')\n",
        "\n",
        "        # Training data\n",
        "        for input_ids, attention_masks, labels in tqdm(train_dataloader):\n",
        "            # forward pass\n",
        "            input_ids = input_ids.to(device)\n",
        "            attention_masks = attention_masks.to(device)\n",
        "            labels = labels.to(device)\n",
        "            outputs = model(\n",
        "                input_ids=input_ids, attention_mask=attention_masks, labels=labels\n",
        "            )\n",
        "\n",
        "            # backpropagation\n",
        "            loss = criterion(outputs.logits, labels)\n",
        "            loss.backward()\n",
        "            optimizer.step()\n",
        "            optimizer.zero_grad()\n",
        "\n",
        "            # metrics\n",
        "            predictions = outputs.logits.argmax(-1)\n",
        "            f1 = f1_score(labels.cpu(), predictions.cpu(), average='macro').item()  # or weighted if you'd like!\n",
        "            logits = outputs.logits.cpu()  # retrieve data from the GPU\n",
        "            labels = labels.cpu()\n",
        "            predictions = logits.argmax(-1)\n",
        "            train_f1.append(f1)\n",
        "            train_loss.append(loss.item())\n",
        "\n",
        "        epoch_f1_train = sum(train_f1) / len(train_f1)\n",
        "        epoch_loss_train = sum(train_loss) / len(train_loss)\n",
        "        total_train_f1.append(epoch_f1_train)\n",
        "        total_train_loss.append(epoch_loss_train)\n",
        "\n",
        "        model.eval()\n",
        "        print(f'Epoch {epoch}, evaluating...')\n",
        "        # Validation data\n",
        "        for input_ids, attention_masks, labels in tqdm(valid_dataloader):\n",
        "            with torch.no_grad():  # this context manager deactivates the backpropagation-related elements of the tensors\n",
        "                outputs = model(\n",
        "                    input_ids=input_ids.to(device), attention_mask=attention_masks.to(device)\n",
        "                )\n",
        "                loss = criterion(outputs.logits, labels.to(device))\n",
        "                predictions = outputs.logits.argmax(-1)\n",
        "                f1 = f1_score(labels.cpu(), predictions.cpu(), average='macro').item()\n",
        "                valid_f1.append(f1)\n",
        "                valid_loss.append(loss.item())\n",
        "\n",
        "        epoch_f1_valid = sum(valid_f1) / len(valid_f1)\n",
        "        epoch_loss_valid = sum(valid_loss) / len(valid_loss)\n",
        "        total_valid_f1.append(epoch_f1_valid)\n",
        "        total_valid_loss.append(epoch_loss_valid)\n",
        "        print(f'Epoch {epoch}: training set F1={round(epoch_f1_train, 3)}, validation set F1={round(epoch_f1_valid, 3)}')\n",
        "\n",
        "    return model, total_train_f1, total_valid_f1, total_train_loss, total_valid_loss\n",
        "\n",
        "model, total_train_f1, total_valid_f1, total_train_loss, total_valid_loss = train_model()\n"
      ],
      "metadata": {
        "id": "IVuvcBzZ8VKZ",
        "colab": {
          "base_uri": "https://localhost:8080/"
        },
        "outputId": "571a76a1-a4a4-41e1-bd5a-0b1e03ce836c"
      },
      "execution_count": null,
      "outputs": [
        {
          "output_type": "stream",
          "name": "stderr",
          "text": [
            "/usr/local/lib/python3.10/dist-packages/transformers/optimization.py:411: FutureWarning: This implementation of AdamW is deprecated and will be removed in a future version. Use the PyTorch implementation torch.optim.AdamW instead, or set `no_deprecation_warning=True` to disable this warning\n",
            "  warnings.warn(\n"
          ]
        },
        {
          "output_type": "stream",
          "name": "stdout",
          "text": [
            "Epoch 0, training...\n"
          ]
        },
        {
          "output_type": "stream",
          "name": "stderr",
          "text": [
            "100%|██████████| 67/67 [00:11<00:00,  5.89it/s]\n"
          ]
        },
        {
          "output_type": "stream",
          "name": "stdout",
          "text": [
            "Epoch 0, evaluating...\n"
          ]
        },
        {
          "output_type": "stream",
          "name": "stderr",
          "text": [
            "100%|██████████| 9/9 [00:00<00:00, 24.19it/s]\n"
          ]
        },
        {
          "output_type": "stream",
          "name": "stdout",
          "text": [
            "Epoch 0: training set F1=0.727, validation set F1=0.259\n",
            "Epoch 1, training...\n"
          ]
        },
        {
          "output_type": "stream",
          "name": "stderr",
          "text": [
            "100%|██████████| 67/67 [00:08<00:00,  7.64it/s]\n"
          ]
        },
        {
          "output_type": "stream",
          "name": "stdout",
          "text": [
            "Epoch 1, evaluating...\n"
          ]
        },
        {
          "output_type": "stream",
          "name": "stderr",
          "text": [
            "100%|██████████| 9/9 [00:00<00:00, 24.56it/s]\n"
          ]
        },
        {
          "output_type": "stream",
          "name": "stdout",
          "text": [
            "Epoch 1: training set F1=0.73, validation set F1=0.259\n",
            "Epoch 2, training...\n"
          ]
        },
        {
          "output_type": "stream",
          "name": "stderr",
          "text": [
            "100%|██████████| 67/67 [00:08<00:00,  7.63it/s]\n"
          ]
        },
        {
          "output_type": "stream",
          "name": "stdout",
          "text": [
            "Epoch 2, evaluating...\n"
          ]
        },
        {
          "output_type": "stream",
          "name": "stderr",
          "text": [
            "100%|██████████| 9/9 [00:00<00:00, 37.36it/s]\n"
          ]
        },
        {
          "output_type": "stream",
          "name": "stdout",
          "text": [
            "Epoch 2: training set F1=0.74, validation set F1=0.259\n",
            "Epoch 3, training...\n"
          ]
        },
        {
          "output_type": "stream",
          "name": "stderr",
          "text": [
            "100%|██████████| 67/67 [00:08<00:00,  8.03it/s]\n"
          ]
        },
        {
          "output_type": "stream",
          "name": "stdout",
          "text": [
            "Epoch 3, evaluating...\n"
          ]
        },
        {
          "output_type": "stream",
          "name": "stderr",
          "text": [
            "100%|██████████| 9/9 [00:00<00:00, 38.14it/s]\n"
          ]
        },
        {
          "output_type": "stream",
          "name": "stdout",
          "text": [
            "Epoch 3: training set F1=0.725, validation set F1=0.259\n",
            "Epoch 4, training...\n"
          ]
        },
        {
          "output_type": "stream",
          "name": "stderr",
          "text": [
            "100%|██████████| 67/67 [00:07<00:00,  9.52it/s]\n"
          ]
        },
        {
          "output_type": "stream",
          "name": "stdout",
          "text": [
            "Epoch 4, evaluating...\n"
          ]
        },
        {
          "output_type": "stream",
          "name": "stderr",
          "text": [
            "100%|██████████| 9/9 [00:00<00:00, 38.17it/s]\n"
          ]
        },
        {
          "output_type": "stream",
          "name": "stdout",
          "text": [
            "Epoch 4: training set F1=0.656, validation set F1=0.259\n",
            "Epoch 5, training...\n"
          ]
        },
        {
          "output_type": "stream",
          "name": "stderr",
          "text": [
            "100%|██████████| 67/67 [00:07<00:00,  9.35it/s]\n"
          ]
        },
        {
          "output_type": "stream",
          "name": "stdout",
          "text": [
            "Epoch 5, evaluating...\n"
          ]
        },
        {
          "output_type": "stream",
          "name": "stderr",
          "text": [
            "100%|██████████| 9/9 [00:00<00:00, 38.25it/s]\n"
          ]
        },
        {
          "output_type": "stream",
          "name": "stdout",
          "text": [
            "Epoch 5: training set F1=0.575, validation set F1=0.259\n",
            "Epoch 6, training...\n"
          ]
        },
        {
          "output_type": "stream",
          "name": "stderr",
          "text": [
            "100%|██████████| 67/67 [00:07<00:00,  9.31it/s]\n"
          ]
        },
        {
          "output_type": "stream",
          "name": "stdout",
          "text": [
            "Epoch 6, evaluating...\n"
          ]
        },
        {
          "output_type": "stream",
          "name": "stderr",
          "text": [
            "100%|██████████| 9/9 [00:00<00:00, 36.99it/s]\n"
          ]
        },
        {
          "output_type": "stream",
          "name": "stdout",
          "text": [
            "Epoch 6: training set F1=0.523, validation set F1=0.259\n",
            "Epoch 7, training...\n"
          ]
        },
        {
          "output_type": "stream",
          "name": "stderr",
          "text": [
            "100%|██████████| 67/67 [00:07<00:00,  9.27it/s]\n"
          ]
        },
        {
          "output_type": "stream",
          "name": "stdout",
          "text": [
            "Epoch 7, evaluating...\n"
          ]
        },
        {
          "output_type": "stream",
          "name": "stderr",
          "text": [
            "100%|██████████| 9/9 [00:00<00:00, 36.66it/s]\n"
          ]
        },
        {
          "output_type": "stream",
          "name": "stdout",
          "text": [
            "Epoch 7: training set F1=0.426, validation set F1=0.259\n",
            "Epoch 8, training...\n"
          ]
        },
        {
          "output_type": "stream",
          "name": "stderr",
          "text": [
            "100%|██████████| 67/67 [00:07<00:00,  9.13it/s]\n"
          ]
        },
        {
          "output_type": "stream",
          "name": "stdout",
          "text": [
            "Epoch 8, evaluating...\n"
          ]
        },
        {
          "output_type": "stream",
          "name": "stderr",
          "text": [
            "100%|██████████| 9/9 [00:00<00:00, 36.47it/s]\n"
          ]
        },
        {
          "output_type": "stream",
          "name": "stdout",
          "text": [
            "Epoch 8: training set F1=0.614, validation set F1=0.259\n",
            "Epoch 9, training...\n"
          ]
        },
        {
          "output_type": "stream",
          "name": "stderr",
          "text": [
            "100%|██████████| 67/67 [00:07<00:00,  9.11it/s]\n"
          ]
        },
        {
          "output_type": "stream",
          "name": "stdout",
          "text": [
            "Epoch 9, evaluating...\n"
          ]
        },
        {
          "output_type": "stream",
          "name": "stderr",
          "text": [
            "100%|██████████| 9/9 [00:00<00:00, 35.99it/s]\n"
          ]
        },
        {
          "output_type": "stream",
          "name": "stdout",
          "text": [
            "Epoch 9: training set F1=0.561, validation set F1=0.259\n",
            "Epoch 10, training...\n"
          ]
        },
        {
          "output_type": "stream",
          "name": "stderr",
          "text": [
            "100%|██████████| 67/67 [00:07<00:00,  8.99it/s]\n"
          ]
        },
        {
          "output_type": "stream",
          "name": "stdout",
          "text": [
            "Epoch 10, evaluating...\n"
          ]
        },
        {
          "output_type": "stream",
          "name": "stderr",
          "text": [
            "100%|██████████| 9/9 [00:00<00:00, 35.50it/s]\n"
          ]
        },
        {
          "output_type": "stream",
          "name": "stdout",
          "text": [
            "Epoch 10: training set F1=0.637, validation set F1=0.259\n",
            "Epoch 11, training...\n"
          ]
        },
        {
          "output_type": "stream",
          "name": "stderr",
          "text": [
            "100%|██████████| 67/67 [00:07<00:00,  8.91it/s]\n"
          ]
        },
        {
          "output_type": "stream",
          "name": "stdout",
          "text": [
            "Epoch 11, evaluating...\n"
          ]
        },
        {
          "output_type": "stream",
          "name": "stderr",
          "text": [
            "100%|██████████| 9/9 [00:00<00:00, 34.36it/s]\n"
          ]
        },
        {
          "output_type": "stream",
          "name": "stdout",
          "text": [
            "Epoch 11: training set F1=0.672, validation set F1=0.259\n",
            "Epoch 12, training...\n"
          ]
        },
        {
          "output_type": "stream",
          "name": "stderr",
          "text": [
            "100%|██████████| 67/67 [00:07<00:00,  8.79it/s]\n"
          ]
        },
        {
          "output_type": "stream",
          "name": "stdout",
          "text": [
            "Epoch 12, evaluating...\n"
          ]
        },
        {
          "output_type": "stream",
          "name": "stderr",
          "text": [
            "100%|██████████| 9/9 [00:00<00:00, 34.23it/s]\n"
          ]
        },
        {
          "output_type": "stream",
          "name": "stdout",
          "text": [
            "Epoch 12: training set F1=0.589, validation set F1=0.259\n",
            "Epoch 13, training...\n"
          ]
        },
        {
          "output_type": "stream",
          "name": "stderr",
          "text": [
            "100%|██████████| 67/67 [00:07<00:00,  8.68it/s]\n"
          ]
        },
        {
          "output_type": "stream",
          "name": "stdout",
          "text": [
            "Epoch 13, evaluating...\n"
          ]
        },
        {
          "output_type": "stream",
          "name": "stderr",
          "text": [
            "100%|██████████| 9/9 [00:00<00:00, 33.49it/s]\n"
          ]
        },
        {
          "output_type": "stream",
          "name": "stdout",
          "text": [
            "Epoch 13: training set F1=0.009, validation set F1=0.307\n",
            "Epoch 14, training...\n"
          ]
        },
        {
          "output_type": "stream",
          "name": "stderr",
          "text": [
            "100%|██████████| 67/67 [00:07<00:00,  8.71it/s]\n"
          ]
        },
        {
          "output_type": "stream",
          "name": "stdout",
          "text": [
            "Epoch 14, evaluating...\n"
          ]
        },
        {
          "output_type": "stream",
          "name": "stderr",
          "text": [
            "100%|██████████| 9/9 [00:00<00:00, 33.78it/s]\n"
          ]
        },
        {
          "output_type": "stream",
          "name": "stdout",
          "text": [
            "Epoch 14: training set F1=0.066, validation set F1=0.307\n",
            "Epoch 15, training...\n"
          ]
        },
        {
          "output_type": "stream",
          "name": "stderr",
          "text": [
            "100%|██████████| 67/67 [00:07<00:00,  8.78it/s]\n"
          ]
        },
        {
          "output_type": "stream",
          "name": "stdout",
          "text": [
            "Epoch 15, evaluating...\n"
          ]
        },
        {
          "output_type": "stream",
          "name": "stderr",
          "text": [
            "100%|██████████| 9/9 [00:00<00:00, 33.73it/s]\n"
          ]
        },
        {
          "output_type": "stream",
          "name": "stdout",
          "text": [
            "Epoch 15: training set F1=0.076, validation set F1=0.307\n",
            "Epoch 16, training...\n"
          ]
        },
        {
          "output_type": "stream",
          "name": "stderr",
          "text": [
            "100%|██████████| 67/67 [00:07<00:00,  8.57it/s]\n"
          ]
        },
        {
          "output_type": "stream",
          "name": "stdout",
          "text": [
            "Epoch 16, evaluating...\n"
          ]
        },
        {
          "output_type": "stream",
          "name": "stderr",
          "text": [
            "100%|██████████| 9/9 [00:00<00:00, 34.35it/s]\n"
          ]
        },
        {
          "output_type": "stream",
          "name": "stdout",
          "text": [
            "Epoch 16: training set F1=0.066, validation set F1=0.307\n",
            "Epoch 17, training...\n"
          ]
        },
        {
          "output_type": "stream",
          "name": "stderr",
          "text": [
            "100%|██████████| 67/67 [00:07<00:00,  8.95it/s]\n"
          ]
        },
        {
          "output_type": "stream",
          "name": "stdout",
          "text": [
            "Epoch 17, evaluating...\n"
          ]
        },
        {
          "output_type": "stream",
          "name": "stderr",
          "text": [
            "100%|██████████| 9/9 [00:00<00:00, 35.41it/s]\n"
          ]
        },
        {
          "output_type": "stream",
          "name": "stdout",
          "text": [
            "Epoch 17: training set F1=0.072, validation set F1=0.307\n",
            "Epoch 18, training...\n"
          ]
        },
        {
          "output_type": "stream",
          "name": "stderr",
          "text": [
            "100%|██████████| 67/67 [00:08<00:00,  7.74it/s]\n"
          ]
        },
        {
          "output_type": "stream",
          "name": "stdout",
          "text": [
            "Epoch 18, evaluating...\n"
          ]
        },
        {
          "output_type": "stream",
          "name": "stderr",
          "text": [
            "100%|██████████| 9/9 [00:00<00:00, 36.16it/s]\n"
          ]
        },
        {
          "output_type": "stream",
          "name": "stdout",
          "text": [
            "Epoch 18: training set F1=0.073, validation set F1=0.307\n",
            "Epoch 19, training...\n"
          ]
        },
        {
          "output_type": "stream",
          "name": "stderr",
          "text": [
            "100%|██████████| 67/67 [00:07<00:00,  8.99it/s]\n"
          ]
        },
        {
          "output_type": "stream",
          "name": "stdout",
          "text": [
            "Epoch 19, evaluating...\n"
          ]
        },
        {
          "output_type": "stream",
          "name": "stderr",
          "text": [
            "100%|██████████| 9/9 [00:00<00:00, 35.44it/s]"
          ]
        },
        {
          "output_type": "stream",
          "name": "stdout",
          "text": [
            "Epoch 19: training set F1=0.092, validation set F1=0.307\n"
          ]
        },
        {
          "output_type": "stream",
          "name": "stderr",
          "text": [
            "\n"
          ]
        }
      ]
    },
    {
      "cell_type": "code",
      "source": [
        "ax = plt.gca()\n",
        "twinx = ax.twinx()\n",
        "ax.plot(total_train_f1,label=\"F1 Train\")\n",
        "ax.plot(total_valid_f1,label=\"F1 Valid\")\n",
        "twinx.plot(total_train_loss,label=\"Loss Train\", linestyle=\"dashed\")\n",
        "twinx.plot(total_valid_loss,label=\"Loss Valid\", linestyle=\"dashed\")\n",
        "plt.xlabel(\"Epoch\")\n",
        "plt.ylabel(\"F1/Loss\")\n",
        "plt.title(\"Evolution of training and validation performances over time\")\n",
        "ax.legend()\n",
        "twinx.legend()"
      ],
      "metadata": {
        "colab": {
          "base_uri": "https://localhost:8080/",
          "height": 469
        },
        "id": "_RgkjcK_Lv9L",
        "outputId": "a4435a60-b674-47d7-b005-8061bc42c5ba"
      },
      "execution_count": null,
      "outputs": [
        {
          "output_type": "execute_result",
          "data": {
            "text/plain": [
              "<matplotlib.legend.Legend at 0x7fe2d4167370>"
            ]
          },
          "metadata": {},
          "execution_count": 50
        },
        {
          "output_type": "display_data",
          "data": {
            "text/plain": [
              "<Figure size 640x480 with 2 Axes>"
            ],
            "image/png": "[encoded data removed]"
          },
          "metadata": {}
        }
      ]
    },
    {
      "cell_type": "markdown",
      "source": [
        "**Question**: Describe what happens over the course of the 20 epochs of training\n",
        "\n",
        "**ANSWER**: Over the course of the 20 epochs of training, the model undergoes multiple iterations through the training dataset to learn patterns and features. During each epoch, it performs a forward and backward pass, updating its weights to minimize the loss. The training and validation metrics, such as F1 score and loss, are computed and monitored for performance evaluation.\n",
        "\n",
        "\n",
        "**Question**: Repeat the training - are the results the same? Why (or why not)?\n",
        "\n",
        "**ANSWER**: Even after repeating the training, the results are the same, it is probably because factors like fixed random seed for initialization or deterministic processes during training, such as data shuffling, are being kept constant.\n",
        "\n",
        "**Question**: Train for 20 more epochs - what starts to occur?\n",
        "\n",
        "**ANSWER**:\n",
        "\n",
        "Training for 20 more epochs leads to overfitting, where the model becomes increasingly tailored to the training data and starts to perform poorly on new, unseen data (validation set). The model exhibits a decrease in validation performance, indicating that it is memorizing the training set rather than generalizing well to new examples.\n",
        "\n",
        "**Question**: Discuss the benefits and drawbacks of using the BERT model for this task. How might this change for a more complicated classification task?\n",
        "\n",
        "**ANSWER**:\n",
        "\n",
        "**Benefits of Using BERT:**\n",
        "1. **Semantic Understanding:** BERT excels in capturing nuanced semantic relationships and understanding words in their contextual meaning, enhancing its performance in tasks that demand a deep comprehension of language.\n",
        "2. **Pre-trained Representations:** Leveraging pre-trained representations enables BERT to transfer knowledge from a vast dataset, proving advantageous in scenarios with limited labeled data.\n",
        "3. **Token-level Attention:** BERT's token-level attention mechanism allows it to focus on relevant segments of the input sequence, contributing to more informed predictions.\n",
        "\n",
        "**Drawbacks of Using BERT:**\n",
        "1. **Computational Cost:** BERT comes with a high computational cost, both during training and inference, necessitating substantial computing resources.\n",
        "2. **Large Model Size:** The extensive number of parameters in BERT models results in larger storage requirements and potentially slower processing times for both training and inference.\n",
        "3. **Interpretability Challenges:** BERT models are often perceived as \"black boxes,\" making it challenging to interpret the decision-making process and understand the factors influencing predictions.\n",
        "\n",
        "**Adaptations for More Complicated Tasks:**\n",
        "1. **Task-Specific Fine-Tuning:** Fine-tuning BERT on task-specific data becomes essential for addressing the intricacies of more complex tasks.\n",
        "2. **Model Size and Training Data:** Depending on task complexity and available labeled data, consideration may be given to larger BERT models or extended training epochs.\n",
        "3. **Ensemble Approaches:** Combining predictions from multiple BERT models or employing ensemble methods can further enhance performance on intricate tasks.\n",
        "\n"
      ],
      "metadata": {
        "id": "zqYhTh5g6kXN"
      }
    },
    {
      "cell_type": "markdown",
      "source": [
        "**Question**: Use the sklearn [confusion matrix](https://scikit-learn.org/stable/modules/generated/sklearn.metrics.confusion_matrix.html) for the predictions from PubMedBert, as well as for the TF-IDF classifier. Describe the pattern you observe."
      ],
      "metadata": {
        "id": "hLoQBRO8JvtT"
      }
    },
    {
      "cell_type": "code",
      "source": [
        "#todo: implement confusion matrix\n",
        "#For PubMedBert\n",
        "from sklearn.metrics import confusion_matrix\n",
        "import seaborn as sns\n",
        "\n",
        "# Function to get predictions from the model\n",
        "def get_predictions(model, dataloader):\n",
        "    predictions = []\n",
        "    true_labels = []\n",
        "\n",
        "    model.eval()\n",
        "    with torch.no_grad():\n",
        "        for input_ids, attention_masks, labels in tqdm(dataloader):\n",
        "            outputs = model(\n",
        "                input_ids=input_ids.to(device), attention_mask=attention_masks.to(device)\n",
        "            )\n",
        "            predictions.extend(outputs.logits.argmax(-1).cpu().numpy())\n",
        "            true_labels.extend(labels.numpy())\n",
        "\n",
        "    return np.array(predictions), np.array(true_labels)\n",
        "\n",
        "# Get predictions for the test set\n",
        "test_dataset = ClassificationDataset(df, \"Test\")\n",
        "test_dataloader = DataLoader(test_dataset, batch_size=BATCH_SIZE)\n",
        "predictions_bert, true_labels_bert = get_predictions(model, test_dataloader)\n",
        "\n",
        "# Confusion matrix for PubMedBert\n",
        "cm_bert = confusion_matrix(true_labels_bert, predictions_bert)\n",
        "print(\"Confusion Matrix for PubMedBert:\")\n",
        "print(cm_bert)\n",
        "\n",
        "# Visualize the confusion matrix using Seaborn's heatmap\n",
        "plt.figure(figsize=(8, 6))\n",
        "sns.heatmap(cm_bert, annot=True, fmt=\"d\", cmap=\"Blues\", xticklabels=[\"Class 0\", \"Class 1\", \"Class 2\", \"Class 3\"],\n",
        "            yticklabels=[\"Class 0\", \"Class 1\", \"Class 2\", \"Class 3\"])\n",
        "plt.title(\"Confusion Matrix for PubMedBert\")\n",
        "plt.xlabel(\"Predicted Class\")\n",
        "plt.ylabel(\"True Class\")\n",
        "plt.show()\n"
      ],
      "metadata": {
        "id": "_RVcKHemJvKz",
        "colab": {
          "base_uri": "https://localhost:8080/",
          "height": 668
        },
        "outputId": "4cdabd22-69fe-462b-9a2a-61a1d06198fa"
      },
      "execution_count": null,
      "outputs": [
        {
          "output_type": "stream",
          "name": "stderr",
          "text": [
            "100%|██████████| 9/9 [00:00<00:00, 35.79it/s]\n"
          ]
        },
        {
          "output_type": "stream",
          "name": "stdout",
          "text": [
            "Confusion Matrix for PubMedBert:\n",
            "[[ 0 12  0  0]\n",
            " [ 0  8  0  0]\n",
            " [ 0 12  0  0]\n",
            " [ 0  2  0  0]]\n"
          ]
        },
        {
          "output_type": "display_data",
          "data": {
            "text/plain": [
              "<Figure size 800x600 with 2 Axes>"
            ],
            "image/png": "[encoded data removed]"
          },
          "metadata": {}
        }
      ]
    },
    {
      "cell_type": "code",
      "source": [
        "#FOR TF-IDF\n",
        "# Function to get predictions from the TF-IDF model\n",
        "def get_tfidf_predictions(df, split=\"Test\", max_features=100):\n",
        "    vectors_train, labels_train = get_tfidf_vectors_and_labels(df, split=\"Train\", max_features=max_features)\n",
        "    vectors_test, labels_test = get_tfidf_vectors_and_labels(df, split=split, max_features=max_features)\n",
        "\n",
        "    tfidf_classifier = LogisticRegression().fit(vectors_train, labels_train)\n",
        "    predictions_test = tfidf_classifier.predict(vectors_test)\n",
        "\n",
        "    return predictions_test, labels_test\n",
        "\n",
        "# Get predictions for the test set using TF-IDF\n",
        "predictions_tfidf, true_labels_tfidf = get_tfidf_predictions(df, split=\"Test\", max_features=best_max_features)\n",
        "\n",
        "# Confusion matrix for TF-IDF\n",
        "cm_tfidf = confusion_matrix(true_labels_tfidf, predictions_tfidf)\n",
        "print(\"\\nConfusion Matrix for TF-IDF:\")\n",
        "print(cm_tfidf)\n",
        "\n",
        "# Visualize the confusion matrix using Seaborn's heatmap for TF-IDF\n",
        "plt.figure(figsize=(8, 6))\n",
        "sns.heatmap(cm_tfidf, annot=True, fmt=\"d\", cmap=\"Blues\", xticklabels=[\"Class 0\", \"Class 1\", \"Class 2\", \"Class 3\"],\n",
        "            yticklabels=[\"Class 0\", \"Class 1\", \"Class 2\", \"Class 3\"])\n",
        "plt.title(\"Confusion Matrix for TF-IDF\")\n",
        "plt.xlabel(\"Predicted Class\")\n",
        "plt.ylabel(\"True Class\")\n",
        "plt.show()\n"
      ],
      "metadata": {
        "colab": {
          "base_uri": "https://localhost:8080/",
          "height": 668
        },
        "id": "--Ezn9TJu-sv",
        "outputId": "ed21c891-f7d2-4d49-dd72-8306a54de255"
      },
      "execution_count": null,
      "outputs": [
        {
          "output_type": "stream",
          "name": "stdout",
          "text": [
            "\n",
            "Confusion Matrix for TF-IDF:\n",
            "[[5 6 1 0]\n",
            " [1 5 2 0]\n",
            " [0 6 6 0]\n",
            " [0 0 2 0]]\n"
          ]
        },
        {
          "output_type": "display_data",
          "data": {
            "text/plain": [
              "<Figure size 800x600 with 2 Axes>"
            ],
            "image/png": "[encoded data removed]"
          },
          "metadata": {}
        }
      ]
    },
    {
      "cell_type": "markdown",
      "source": [
        "**Bonus**: Add a learning rate scheduler to the neural training loop, such as (this one)[https://pytorch.org/docs/stable/generated/torch.optim.lr_scheduler.StepLR.html]. What is the purpose of this? Does this help training?"
      ],
      "metadata": {
        "id": "wdqlmVHpHQyY"
      }
    }
  ]
}
